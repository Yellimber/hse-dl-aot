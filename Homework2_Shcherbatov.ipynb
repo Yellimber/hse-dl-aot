{
  "cells": [
    {
      "cell_type": "code",
      "execution_count": 222,
      "metadata": {
        "id": "49bR1CPKoobU"
      },
      "outputs": [],
      "source": [
        "import json\n",
        "import random\n",
        "from tqdm import tqdm\n",
        "import numpy as np\n",
        "\n",
        "import pandas as pd\n",
        "\n",
        "from matplotlib import pyplot as plt\n",
        "from sklearn.decomposition import TruncatedSVD\n",
        "from sklearn.manifold import TSNE\n",
        "\n",
        "from sklearn.metrics import mean_squared_error\n",
        "from sklearn.preprocessing import MinMaxScaler\n",
        "\n",
        "import torch\n",
        "\n",
        "from pylab import rcParams\n",
        "rcParams['figure.figsize'] = 15, 15"
      ]
    },
    {
      "cell_type": "markdown",
      "metadata": {
        "id": "Q22v8qgKoobX"
      },
      "source": [
        "# Что делать?\n",
        "Где есть пометка # CODE писать код\n",
        "\n",
        "[Полезный туториал](http://jalammar.github.io/illustrated-word2vec/)"
      ]
    },
    {
      "cell_type": "markdown",
      "metadata": {
        "id": "JmIi0fBcooba"
      },
      "source": [
        "# Загружаем данные\n",
        "Они уже обработанные и токенизированные. Процесс можно посмотреть в тетрадке 1.1 Processing corpus"
      ]
    },
    {
      "cell_type": "code",
      "source": [
        "from google.colab import drive\n",
        "drive.mount('/content/drive')"
      ],
      "metadata": {
        "colab": {
          "base_uri": "https://localhost:8080/"
        },
        "id": "bqLby_k1v4LB",
        "outputId": "0c5e8226-7f54-4629-f41d-dd3ed343f20c"
      },
      "execution_count": 223,
      "outputs": [
        {
          "output_type": "stream",
          "name": "stdout",
          "text": [
            "Drive already mounted at /content/drive; to attempt to forcibly remount, call drive.mount(\"/content/drive\", force_remount=True).\n"
          ]
        }
      ]
    },
    {
      "cell_type": "code",
      "execution_count": 224,
      "metadata": {
        "id": "XLtqpUnAoobc"
      },
      "outputs": [],
      "source": [
        "with open('/content/drive/MyDrive/Colab Notebooks/HSE_AOT/data/processed_corpus.json') as f:\n",
        "    corpus = json.load(f)"
      ]
    },
    {
      "cell_type": "code",
      "execution_count": 225,
      "metadata": {
        "colab": {
          "base_uri": "https://localhost:8080/"
        },
        "id": "SDYgqEfpoobc",
        "outputId": "973a1889-78b6-4077-83dd-3638014a30b8"
      },
      "outputs": [
        {
          "output_type": "execute_result",
          "data": {
            "text/plain": [
              "100000"
            ]
          },
          "metadata": {},
          "execution_count": 225
        }
      ],
      "source": [
        "len(corpus)"
      ]
    },
    {
      "cell_type": "code",
      "execution_count": 226,
      "metadata": {
        "colab": {
          "base_uri": "https://localhost:8080/"
        },
        "id": "9dq9uyZaoobd",
        "outputId": "6e1eeddb-cc5f-4ea1-ec46-0a6fc32a530c"
      },
      "outputs": [
        {
          "output_type": "stream",
          "name": "stdout",
          "text": [
            "второй UNK год окончательно разочаровать решить податься альфабанк\n",
            "вернуть денежный средство лицевой счёт либо зачесть счёт погашение кредит\n",
            "притом ситуация решиться участие течение сутки заявить\n",
            "мой ##число летний жизнь это самый неповоротливый работник банк который видеть\n",
            "везде написать вклад принимать очередь это\n"
          ]
        }
      ],
      "source": [
        "for text in corpus[:5]:\n",
        "    print(' '.join(text))"
      ]
    },
    {
      "cell_type": "markdown",
      "metadata": {
        "id": "RouTJX-Boobe"
      },
      "source": [
        "# CBOW"
      ]
    },
    {
      "cell_type": "code",
      "execution_count": 227,
      "metadata": {
        "id": "TOSQbXqNoobf"
      },
      "outputs": [],
      "source": [
        "sample_text = corpus[1]"
      ]
    },
    {
      "cell_type": "code",
      "execution_count": 228,
      "metadata": {
        "colab": {
          "base_uri": "https://localhost:8080/",
          "height": 35
        },
        "id": "eD5PQdNhoobg",
        "outputId": "97590048-c8f2-4a11-ca9e-5dea6b709197"
      },
      "outputs": [
        {
          "output_type": "execute_result",
          "data": {
            "text/plain": [
              "'вернуть денежный средство лицевой счёт либо зачесть счёт погашение кредит'"
            ],
            "application/vnd.google.colaboratory.intrinsic+json": {
              "type": "string"
            }
          },
          "metadata": {},
          "execution_count": 228
        }
      ],
      "source": [
        "' '.join(sample_text)"
      ]
    },
    {
      "cell_type": "markdown",
      "metadata": {
        "id": "l-jMYUsOoobh"
      },
      "source": [
        "# Реализуйте разделение предложения на примеры методом CBOW"
      ]
    },
    {
      "cell_type": "code",
      "execution_count": 229,
      "metadata": {
        "id": "gm1p3zCUoobh"
      },
      "outputs": [],
      "source": [
        "def cbow_split(tokens, window, pad_token='PAD'):\n",
        "\n",
        "    splits = []\n",
        "\n",
        "    # CODE\n",
        "    for i in range(len(tokens)):\n",
        "        start = i - window if i > window else 0\n",
        "        right = tokens[start:i]\n",
        "        right = [pad_token] * (window - len(right)) + right\n",
        "\n",
        "        left = tokens[i + 1:i + window + 1]\n",
        "        left += [pad_token] * (window - len(left))\n",
        "\n",
        "        splits.append([right, tokens[i], left])\n",
        "\n",
        "    return splits"
      ]
    },
    {
      "cell_type": "code",
      "execution_count": 230,
      "metadata": {
        "id": "8Y7YTo6zoobi"
      },
      "outputs": [],
      "source": [
        "splits = cbow_split(sample_text, window=2)"
      ]
    },
    {
      "cell_type": "code",
      "execution_count": 231,
      "metadata": {
        "colab": {
          "base_uri": "https://localhost:8080/"
        },
        "id": "s1TP8_KFoobj",
        "outputId": "86536c91-b4c3-4c98-90d6-8c4f4d98632b"
      },
      "outputs": [
        {
          "output_type": "stream",
          "name": "stdout",
          "text": [
            "Левый контекст: ['PAD', 'PAD']\n",
            "Центральное слово: вернуть\n",
            "Правый контекст: ['денежный', 'средство']\n",
            "\n",
            "Левый контекст: ['PAD', 'вернуть']\n",
            "Центральное слово: денежный\n",
            "Правый контекст: ['средство', 'лицевой']\n",
            "\n",
            "Левый контекст: ['вернуть', 'денежный']\n",
            "Центральное слово: средство\n",
            "Правый контекст: ['лицевой', 'счёт']\n",
            "\n",
            "Левый контекст: ['денежный', 'средство']\n",
            "Центральное слово: лицевой\n",
            "Правый контекст: ['счёт', 'либо']\n",
            "\n",
            "Левый контекст: ['средство', 'лицевой']\n",
            "Центральное слово: счёт\n",
            "Правый контекст: ['либо', 'зачесть']\n",
            "\n",
            "Левый контекст: ['лицевой', 'счёт']\n",
            "Центральное слово: либо\n",
            "Правый контекст: ['зачесть', 'счёт']\n",
            "\n",
            "Левый контекст: ['счёт', 'либо']\n",
            "Центральное слово: зачесть\n",
            "Правый контекст: ['счёт', 'погашение']\n",
            "\n",
            "Левый контекст: ['либо', 'зачесть']\n",
            "Центральное слово: счёт\n",
            "Правый контекст: ['погашение', 'кредит']\n",
            "\n",
            "Левый контекст: ['зачесть', 'счёт']\n",
            "Центральное слово: погашение\n",
            "Правый контекст: ['кредит', 'PAD']\n",
            "\n",
            "Левый контекст: ['счёт', 'погашение']\n",
            "Центральное слово: кредит\n",
            "Правый контекст: ['PAD', 'PAD']\n",
            "\n"
          ]
        }
      ],
      "source": [
        "for sample in splits:\n",
        "    print('Левый контекст:', sample[0])\n",
        "    print('Центральное слово:', sample[1])\n",
        "    print('Правый контекст:', sample[2], end='\\n\\n')"
      ]
    },
    {
      "cell_type": "code",
      "execution_count": 232,
      "metadata": {
        "colab": {
          "base_uri": "https://localhost:8080/"
        },
        "id": "DwzEAni1oobk",
        "outputId": "f196cb92-0e75-4d87-dc92-c478670b623e"
      },
      "outputs": [
        {
          "output_type": "execute_result",
          "data": {
            "text/plain": [
              "[[['PAD', 'PAD'], 'вернуть', ['денежный', 'средство']],\n",
              " [['PAD', 'вернуть'], 'денежный', ['средство', 'лицевой']],\n",
              " [['вернуть', 'денежный'], 'средство', ['лицевой', 'счёт']],\n",
              " [['денежный', 'средство'], 'лицевой', ['счёт', 'либо']],\n",
              " [['средство', 'лицевой'], 'счёт', ['либо', 'зачесть']],\n",
              " [['лицевой', 'счёт'], 'либо', ['зачесть', 'счёт']],\n",
              " [['счёт', 'либо'], 'зачесть', ['счёт', 'погашение']],\n",
              " [['либо', 'зачесть'], 'счёт', ['погашение', 'кредит']],\n",
              " [['зачесть', 'счёт'], 'погашение', ['кредит', 'PAD']],\n",
              " [['счёт', 'погашение'], 'кредит', ['PAD', 'PAD']]]"
            ]
          },
          "metadata": {},
          "execution_count": 232
        }
      ],
      "source": [
        "splits"
      ]
    },
    {
      "cell_type": "markdown",
      "metadata": {
        "id": "iPM4FUXSoobl"
      },
      "source": [
        "# Expected\n",
        "\n",
        "```python\n",
        "[(['PAD', 'PAD'], 'вопрос', ['почему', 'например']),\n",
        " (['PAD', 'вопрос'], 'почему', ['например', 'китайский']),\n",
        " (['вопрос', 'почему'], 'например', ['китайский', 'японский']),\n",
        " (['почему', 'например'], 'китайский', ['японский', 'UNK']),\n",
        " (['например', 'китайский'], 'японский', ['UNK', 'PAD']),\n",
        " (['китайский', 'японский'], 'UNK', ['PAD', 'PAD'])]\n",
        "```"
      ]
    },
    {
      "cell_type": "code",
      "execution_count": 233,
      "metadata": {
        "colab": {
          "base_uri": "https://localhost:8080/"
        },
        "id": "_thOZF4coobl",
        "outputId": "3238c27e-cd6c-4588-da29-0f3be104afc6"
      },
      "outputs": [
        {
          "output_type": "execute_result",
          "data": {
            "text/plain": [
              "[[['PAD', 'PAD', 'PAD'], 'вернуть', ['денежный', 'средство', 'лицевой']],\n",
              " [['PAD', 'PAD', 'вернуть'], 'денежный', ['средство', 'лицевой', 'счёт']],\n",
              " [['PAD', 'вернуть', 'денежный'], 'средство', ['лицевой', 'счёт', 'либо']],\n",
              " [['вернуть', 'денежный', 'средство'], 'лицевой', ['счёт', 'либо', 'зачесть']],\n",
              " [['денежный', 'средство', 'лицевой'], 'счёт', ['либо', 'зачесть', 'счёт']],\n",
              " [['средство', 'лицевой', 'счёт'], 'либо', ['зачесть', 'счёт', 'погашение']],\n",
              " [['лицевой', 'счёт', 'либо'], 'зачесть', ['счёт', 'погашение', 'кредит']],\n",
              " [['счёт', 'либо', 'зачесть'], 'счёт', ['погашение', 'кредит', 'PAD']],\n",
              " [['либо', 'зачесть', 'счёт'], 'погашение', ['кредит', 'PAD', 'PAD']],\n",
              " [['зачесть', 'счёт', 'погашение'], 'кредит', ['PAD', 'PAD', 'PAD']]]"
            ]
          },
          "metadata": {},
          "execution_count": 233
        }
      ],
      "source": [
        "cbow_split(sample_text, window=3)"
      ]
    },
    {
      "cell_type": "markdown",
      "metadata": {
        "id": "LEm27PtKoobm"
      },
      "source": [
        "# Expected\n",
        "\n",
        "```python\n",
        "[(['PAD', 'PAD', 'PAD'], 'вопрос', ['почему', 'например', 'китайский']),\n",
        " (['PAD', 'PAD', 'вопрос'], 'почему', ['например', 'китайский', 'японский']),\n",
        " (['PAD', 'вопрос', 'почему'], 'например', ['китайский', 'японский', 'UNK']),\n",
        " (['вопрос', 'почему', 'например'], 'китайский', ['японский', 'UNK', 'PAD']),\n",
        " (['почему', 'например', 'китайский'], 'японский', ['UNK', 'PAD', 'PAD']),\n",
        " (['например', 'китайский', 'японский'], 'UNK', ['PAD', 'PAD', 'PAD'])]\n",
        "```"
      ]
    },
    {
      "cell_type": "markdown",
      "metadata": {
        "id": "3vqmduqeoobn"
      },
      "source": [
        "# Skipgram"
      ]
    },
    {
      "cell_type": "code",
      "execution_count": 234,
      "metadata": {
        "colab": {
          "base_uri": "https://localhost:8080/",
          "height": 35
        },
        "id": "khFe4UKkoobn",
        "outputId": "8d6bad6d-74b9-4512-d827-42457ea4897e"
      },
      "outputs": [
        {
          "output_type": "execute_result",
          "data": {
            "text/plain": [
              "'вернуть денежный средство лицевой счёт либо зачесть счёт погашение кредит'"
            ],
            "application/vnd.google.colaboratory.intrinsic+json": {
              "type": "string"
            }
          },
          "metadata": {},
          "execution_count": 234
        }
      ],
      "source": [
        "' '.join(sample_text)"
      ]
    },
    {
      "cell_type": "markdown",
      "metadata": {
        "id": "f6CRo2Jqoobo"
      },
      "source": [
        "# Реализуйте разделение предложения на примеры методом Skipgram"
      ]
    },
    {
      "cell_type": "code",
      "execution_count": 235,
      "metadata": {
        "id": "5_d9_jDsoobo"
      },
      "outputs": [],
      "source": [
        "def skipgram_split(tokens, window):\n",
        "\n",
        "    splits = []\n",
        "\n",
        "    # CODE\n",
        "    for i in range(len(tokens)):\n",
        "        start = i - window if i > window else 0\n",
        "        cntxt = tokens[start:i + window + 1]\n",
        "        cntxt.remove(tokens[i])\n",
        "\n",
        "        for w in cntxt:\n",
        "            splits.append((w, tokens[i]))\n",
        "\n",
        "    return splits"
      ]
    },
    {
      "cell_type": "code",
      "execution_count": 236,
      "metadata": {
        "id": "I1ZRMt8noobo"
      },
      "outputs": [],
      "source": [
        "splits = skipgram_split(sample_text, window=2)"
      ]
    },
    {
      "cell_type": "code",
      "execution_count": 237,
      "metadata": {
        "colab": {
          "base_uri": "https://localhost:8080/"
        },
        "id": "G2iyCCH0oobo",
        "outputId": "440b0e11-b39f-426e-c66f-fb73e8b5f5cf"
      },
      "outputs": [
        {
          "output_type": "stream",
          "name": "stdout",
          "text": [
            "Контекст: денежный\n",
            "Центральное слово: вернуть\n",
            "\n",
            "Контекст: средство\n",
            "Центральное слово: вернуть\n",
            "\n",
            "Контекст: вернуть\n",
            "Центральное слово: денежный\n",
            "\n",
            "Контекст: средство\n",
            "Центральное слово: денежный\n",
            "\n",
            "Контекст: лицевой\n",
            "Центральное слово: денежный\n",
            "\n",
            "Контекст: вернуть\n",
            "Центральное слово: средство\n",
            "\n",
            "Контекст: денежный\n",
            "Центральное слово: средство\n",
            "\n",
            "Контекст: лицевой\n",
            "Центральное слово: средство\n",
            "\n",
            "Контекст: счёт\n",
            "Центральное слово: средство\n",
            "\n",
            "Контекст: денежный\n",
            "Центральное слово: лицевой\n",
            "\n",
            "Контекст: средство\n",
            "Центральное слово: лицевой\n",
            "\n",
            "Контекст: счёт\n",
            "Центральное слово: лицевой\n",
            "\n",
            "Контекст: либо\n",
            "Центральное слово: лицевой\n",
            "\n",
            "Контекст: средство\n",
            "Центральное слово: счёт\n",
            "\n",
            "Контекст: лицевой\n",
            "Центральное слово: счёт\n",
            "\n",
            "Контекст: либо\n",
            "Центральное слово: счёт\n",
            "\n",
            "Контекст: зачесть\n",
            "Центральное слово: счёт\n",
            "\n",
            "Контекст: лицевой\n",
            "Центральное слово: либо\n",
            "\n",
            "Контекст: счёт\n",
            "Центральное слово: либо\n",
            "\n",
            "Контекст: зачесть\n",
            "Центральное слово: либо\n",
            "\n",
            "Контекст: счёт\n",
            "Центральное слово: либо\n",
            "\n",
            "Контекст: счёт\n",
            "Центральное слово: зачесть\n",
            "\n",
            "Контекст: либо\n",
            "Центральное слово: зачесть\n",
            "\n",
            "Контекст: счёт\n",
            "Центральное слово: зачесть\n",
            "\n",
            "Контекст: погашение\n",
            "Центральное слово: зачесть\n",
            "\n",
            "Контекст: либо\n",
            "Центральное слово: счёт\n",
            "\n",
            "Контекст: зачесть\n",
            "Центральное слово: счёт\n",
            "\n",
            "Контекст: погашение\n",
            "Центральное слово: счёт\n",
            "\n",
            "Контекст: кредит\n",
            "Центральное слово: счёт\n",
            "\n",
            "Контекст: зачесть\n",
            "Центральное слово: погашение\n",
            "\n",
            "Контекст: счёт\n",
            "Центральное слово: погашение\n",
            "\n",
            "Контекст: кредит\n",
            "Центральное слово: погашение\n",
            "\n",
            "Контекст: счёт\n",
            "Центральное слово: кредит\n",
            "\n",
            "Контекст: погашение\n",
            "Центральное слово: кредит\n",
            "\n"
          ]
        }
      ],
      "source": [
        "for sample in splits:\n",
        "    print('Контекст:', sample[0])\n",
        "    print('Центральное слово:', sample[1], end='\\n\\n')"
      ]
    },
    {
      "cell_type": "code",
      "execution_count": 238,
      "metadata": {
        "colab": {
          "base_uri": "https://localhost:8080/"
        },
        "id": "2PXyaauAoobp",
        "outputId": "a96dd20e-2ed2-4b12-a142-42a8cba043a1"
      },
      "outputs": [
        {
          "output_type": "execute_result",
          "data": {
            "text/plain": [
              "[('денежный', 'вернуть'),\n",
              " ('средство', 'вернуть'),\n",
              " ('вернуть', 'денежный'),\n",
              " ('средство', 'денежный'),\n",
              " ('лицевой', 'денежный'),\n",
              " ('вернуть', 'средство'),\n",
              " ('денежный', 'средство'),\n",
              " ('лицевой', 'средство'),\n",
              " ('счёт', 'средство'),\n",
              " ('денежный', 'лицевой'),\n",
              " ('средство', 'лицевой'),\n",
              " ('счёт', 'лицевой'),\n",
              " ('либо', 'лицевой'),\n",
              " ('средство', 'счёт'),\n",
              " ('лицевой', 'счёт'),\n",
              " ('либо', 'счёт'),\n",
              " ('зачесть', 'счёт'),\n",
              " ('лицевой', 'либо'),\n",
              " ('счёт', 'либо'),\n",
              " ('зачесть', 'либо'),\n",
              " ('счёт', 'либо'),\n",
              " ('счёт', 'зачесть'),\n",
              " ('либо', 'зачесть'),\n",
              " ('счёт', 'зачесть'),\n",
              " ('погашение', 'зачесть'),\n",
              " ('либо', 'счёт'),\n",
              " ('зачесть', 'счёт'),\n",
              " ('погашение', 'счёт'),\n",
              " ('кредит', 'счёт'),\n",
              " ('зачесть', 'погашение'),\n",
              " ('счёт', 'погашение'),\n",
              " ('кредит', 'погашение'),\n",
              " ('счёт', 'кредит'),\n",
              " ('погашение', 'кредит')]"
            ]
          },
          "metadata": {},
          "execution_count": 238
        }
      ],
      "source": [
        "skipgram_split(sample_text, window=2)"
      ]
    },
    {
      "cell_type": "markdown",
      "metadata": {
        "id": "K2cJCAmCoobq"
      },
      "source": [
        "# Expected\n",
        "\n",
        "```python\n",
        "[('почему', 'вопрос'),\n",
        " ('например', 'вопрос'),\n",
        " ('вопрос', 'почему'),\n",
        " ('например', 'почему'),\n",
        " ('китайский', 'почему'),\n",
        " ('вопрос', 'например'),\n",
        " ('почему', 'например'),\n",
        " ('китайский', 'например'),\n",
        " ('японский', 'например'),\n",
        " ('почему', 'китайский'),\n",
        " ('например', 'китайский'),\n",
        " ('японский', 'китайский'),\n",
        " ('UNK', 'китайский'),\n",
        " ('например', 'японский'),\n",
        " ('китайский', 'японский'),\n",
        " ('UNK', 'японский'),\n",
        " ('китайский', 'UNK'),\n",
        " ('японский', 'UNK')]\n",
        "```"
      ]
    },
    {
      "cell_type": "code",
      "execution_count": 239,
      "metadata": {
        "colab": {
          "base_uri": "https://localhost:8080/"
        },
        "id": "AsYnak4Zoobr",
        "outputId": "b0f28795-8acb-45f2-9d98-7d725124a02f"
      },
      "outputs": [
        {
          "output_type": "execute_result",
          "data": {
            "text/plain": [
              "[('денежный', 'вернуть'),\n",
              " ('средство', 'вернуть'),\n",
              " ('лицевой', 'вернуть'),\n",
              " ('вернуть', 'денежный'),\n",
              " ('средство', 'денежный'),\n",
              " ('лицевой', 'денежный'),\n",
              " ('счёт', 'денежный'),\n",
              " ('вернуть', 'средство'),\n",
              " ('денежный', 'средство'),\n",
              " ('лицевой', 'средство'),\n",
              " ('счёт', 'средство'),\n",
              " ('либо', 'средство'),\n",
              " ('вернуть', 'лицевой'),\n",
              " ('денежный', 'лицевой'),\n",
              " ('средство', 'лицевой'),\n",
              " ('счёт', 'лицевой'),\n",
              " ('либо', 'лицевой'),\n",
              " ('зачесть', 'лицевой'),\n",
              " ('денежный', 'счёт'),\n",
              " ('средство', 'счёт'),\n",
              " ('лицевой', 'счёт'),\n",
              " ('либо', 'счёт'),\n",
              " ('зачесть', 'счёт'),\n",
              " ('счёт', 'счёт'),\n",
              " ('средство', 'либо'),\n",
              " ('лицевой', 'либо'),\n",
              " ('счёт', 'либо'),\n",
              " ('зачесть', 'либо'),\n",
              " ('счёт', 'либо'),\n",
              " ('погашение', 'либо'),\n",
              " ('лицевой', 'зачесть'),\n",
              " ('счёт', 'зачесть'),\n",
              " ('либо', 'зачесть'),\n",
              " ('счёт', 'зачесть'),\n",
              " ('погашение', 'зачесть'),\n",
              " ('кредит', 'зачесть'),\n",
              " ('либо', 'счёт'),\n",
              " ('зачесть', 'счёт'),\n",
              " ('счёт', 'счёт'),\n",
              " ('погашение', 'счёт'),\n",
              " ('кредит', 'счёт'),\n",
              " ('либо', 'погашение'),\n",
              " ('зачесть', 'погашение'),\n",
              " ('счёт', 'погашение'),\n",
              " ('кредит', 'погашение'),\n",
              " ('зачесть', 'кредит'),\n",
              " ('счёт', 'кредит'),\n",
              " ('погашение', 'кредит')]"
            ]
          },
          "metadata": {},
          "execution_count": 239
        }
      ],
      "source": [
        "skipgram_split(sample_text, window=3)"
      ]
    },
    {
      "cell_type": "markdown",
      "metadata": {
        "id": "_3gAc3Meoobr"
      },
      "source": [
        "# Expected\n",
        "\n",
        "```python\n",
        "[('почему', 'вопрос'),\n",
        " ('например', 'вопрос'),\n",
        " ('китайский', 'вопрос'),\n",
        " ('вопрос', 'почему'),\n",
        " ('например', 'почему'),\n",
        " ('китайский', 'почему'),\n",
        " ('японский', 'почему'),\n",
        " ('вопрос', 'например'),\n",
        " ('почему', 'например'),\n",
        " ('китайский', 'например'),\n",
        " ('японский', 'например'),\n",
        " ('UNK', 'например'),\n",
        " ('вопрос', 'китайский'),\n",
        " ('почему', 'китайский'),\n",
        " ('например', 'китайский'),\n",
        " ('японский', 'китайский'),\n",
        " ('UNK', 'китайский'),\n",
        " ('почему', 'японский'),\n",
        " ('например', 'японский'),\n",
        " ('китайский', 'японский'),\n",
        " ('UNK', 'японский'),\n",
        " ('например', 'UNK'),\n",
        " ('китайский', 'UNK'),\n",
        " ('японский', 'UNK')]\n",
        "```"
      ]
    },
    {
      "cell_type": "code",
      "execution_count": 240,
      "metadata": {
        "id": "0L9oBuVaoobr"
      },
      "outputs": [],
      "source": [
        "word2index = {}\n",
        "\n",
        "for text in corpus:\n",
        "    for token in text:\n",
        "        if token not in word2index:\n",
        "            word2index[token] = len(word2index)"
      ]
    },
    {
      "cell_type": "code",
      "execution_count": 241,
      "metadata": {
        "colab": {
          "base_uri": "https://localhost:8080/"
        },
        "id": "uyJoElfLoobr",
        "outputId": "1fcc2b2f-aff5-41e8-8fbd-d3a5ea6089d2"
      },
      "outputs": [
        {
          "output_type": "execute_result",
          "data": {
            "text/plain": [
              "13076"
            ]
          },
          "metadata": {},
          "execution_count": 241
        }
      ],
      "source": [
        "len(word2index)"
      ]
    },
    {
      "cell_type": "code",
      "execution_count": 242,
      "metadata": {
        "colab": {
          "base_uri": "https://localhost:8080/"
        },
        "id": "sT1q1Cgboobr",
        "outputId": "3d15d9b7-0364-4a37-a9a2-2eeccdcf257c"
      },
      "outputs": [
        {
          "output_type": "execute_result",
          "data": {
            "text/plain": [
              "1"
            ]
          },
          "metadata": {},
          "execution_count": 242
        }
      ],
      "source": [
        "word2index['UNK']"
      ]
    },
    {
      "cell_type": "code",
      "execution_count": 243,
      "metadata": {
        "colab": {
          "base_uri": "https://localhost:8080/"
        },
        "id": "tFexN5R4oobs",
        "outputId": "f30d97f3-ca40-4751-c0e6-882f6e1ae66f"
      },
      "outputs": [
        {
          "output_type": "execute_result",
          "data": {
            "text/plain": [
              "[1282, 8436, 1]"
            ]
          },
          "metadata": {},
          "execution_count": 243
        }
      ],
      "source": [
        "[word2index[tok] if tok in word2index else word2index['UNK'] for tok in 'мама мыть рама'.split()]"
      ]
    },
    {
      "cell_type": "markdown",
      "metadata": {
        "id": "HjNqvzsaoobs"
      },
      "source": [
        "# Torch Dataset\n",
        "В торче есть очень удобная читалка данных"
      ]
    },
    {
      "cell_type": "code",
      "execution_count": 244,
      "metadata": {
        "id": "CCwvTDG5oobt"
      },
      "outputs": [],
      "source": [
        "from torch.utils.data import Dataset, DataLoader"
      ]
    },
    {
      "cell_type": "code",
      "execution_count": 245,
      "metadata": {
        "id": "gOjekErDoobt"
      },
      "outputs": [],
      "source": [
        "# игрушечный датасет\n",
        "# 121535 примера, 4 фичи, 3 класса\n",
        "some_data_x = np.random.rand(121535, 4)\n",
        "some_data_y = np.random.randint(3, size=(121535,))"
      ]
    },
    {
      "cell_type": "code",
      "execution_count": 246,
      "metadata": {
        "colab": {
          "base_uri": "https://localhost:8080/"
        },
        "id": "p1jypNX4oobt",
        "outputId": "8072ab08-31d5-44b1-ba69-00f81479d783"
      },
      "outputs": [
        {
          "output_type": "execute_result",
          "data": {
            "text/plain": [
              "array([[0.40499604, 0.68878997, 0.4029027 , 0.71187809],\n",
              "       [0.82637008, 0.96763375, 0.22164959, 0.34706571],\n",
              "       [0.3405351 , 0.52568894, 0.13438938, 0.70493901],\n",
              "       [0.16184405, 0.15270121, 0.44686153, 0.49005047],\n",
              "       [0.1629026 , 0.78131706, 0.77364811, 0.79600032],\n",
              "       [0.92087679, 0.65006595, 0.76373677, 0.0763376 ],\n",
              "       [0.92203427, 0.53208196, 0.51277718, 0.81833399],\n",
              "       [0.73020131, 0.04773522, 0.10371034, 0.53302379],\n",
              "       [0.74290626, 0.02050963, 0.49708318, 0.3384383 ],\n",
              "       [0.51642409, 0.67623801, 0.95326031, 0.15168524]])"
            ]
          },
          "metadata": {},
          "execution_count": 246
        }
      ],
      "source": [
        "# соверешенно игрушечный, просто цифры\n",
        "some_data_x[:10]"
      ]
    },
    {
      "cell_type": "code",
      "execution_count": 247,
      "metadata": {
        "colab": {
          "base_uri": "https://localhost:8080/"
        },
        "id": "d3Kgim0Koobu",
        "outputId": "5d8f6529-128b-447a-a9c2-203bafe8c159"
      },
      "outputs": [
        {
          "output_type": "execute_result",
          "data": {
            "text/plain": [
              "array([2, 1, 1, ..., 0, 1, 2])"
            ]
          },
          "metadata": {},
          "execution_count": 247
        }
      ],
      "source": [
        "some_data_y"
      ]
    },
    {
      "cell_type": "code",
      "execution_count": 248,
      "metadata": {
        "id": "VdGplzogoobv"
      },
      "outputs": [],
      "source": [
        "class ToyDataset(Dataset):\n",
        "\n",
        "    def __init__(self, data_x, data_y):\n",
        "\n",
        "        super().__init__()\n",
        "\n",
        "        self.data_x = data_x\n",
        "        self.data_y = data_y\n",
        "\n",
        "    def __len__(self):\n",
        "\n",
        "        # Нужно обязательно определить эту функцию\n",
        "        # Должна возвращать размер датасета\n",
        "\n",
        "        return len(self.data_x)\n",
        "\n",
        "    def __getitem__(self, idx):\n",
        "\n",
        "        # Еще нужно определить этот метод\n",
        "        # То есть как мы будем доставать наши данные по индексу\n",
        "\n",
        "        return self.data_x[idx], self.data_y[idx]"
      ]
    },
    {
      "cell_type": "code",
      "execution_count": 249,
      "metadata": {
        "id": "NwD8oTMzoobv"
      },
      "outputs": [],
      "source": [
        "some_dataset = ToyDataset(some_data_x, some_data_y)"
      ]
    },
    {
      "cell_type": "code",
      "execution_count": 250,
      "metadata": {
        "colab": {
          "base_uri": "https://localhost:8080/"
        },
        "id": "4Sj9rmd1oobv",
        "outputId": "240725b1-799e-4585-dcfe-409026aa2390"
      },
      "outputs": [
        {
          "output_type": "execute_result",
          "data": {
            "text/plain": [
              "((array([0.92087679, 0.65006595, 0.76373677, 0.0763376 ]), 0),\n",
              " (array([0.20371174, 0.3018218 , 0.2884667 , 0.55059682]), 1))"
            ]
          },
          "metadata": {},
          "execution_count": 250
        }
      ],
      "source": [
        "some_dataset[5], some_dataset[467]"
      ]
    },
    {
      "cell_type": "code",
      "execution_count": 251,
      "metadata": {
        "id": "A1OFCEvloobv"
      },
      "outputs": [],
      "source": [
        "some_loader = DataLoader(some_dataset, batch_size=16, shuffle=True)"
      ]
    },
    {
      "cell_type": "code",
      "execution_count": 252,
      "metadata": {
        "colab": {
          "base_uri": "https://localhost:8080/"
        },
        "id": "witOavZZoobv",
        "outputId": "199a90bc-38bd-4f35-febf-35a225d78fc4"
      },
      "outputs": [
        {
          "output_type": "execute_result",
          "data": {
            "text/plain": [
              "(16,\n",
              " tensor([[0.3206, 0.8984, 0.2566, 0.8983],\n",
              "         [0.7493, 0.3222, 0.3807, 0.8463],\n",
              "         [0.9881, 0.9205, 0.7240, 0.2203],\n",
              "         [0.0446, 0.5133, 0.1122, 0.7543],\n",
              "         [0.7733, 0.7976, 0.7772, 0.8528],\n",
              "         [0.4725, 0.8605, 0.9282, 0.6242],\n",
              "         [0.8523, 0.8678, 0.7408, 0.3866],\n",
              "         [0.0512, 0.6882, 0.3364, 0.4170],\n",
              "         [0.4134, 0.3045, 0.3976, 0.7761],\n",
              "         [0.8801, 0.0030, 0.7323, 0.6621],\n",
              "         [0.7628, 0.1882, 0.9599, 0.9311],\n",
              "         [0.3320, 0.5350, 0.7296, 0.6129],\n",
              "         [0.3848, 0.0191, 0.9938, 0.7116],\n",
              "         [0.6153, 0.3514, 0.4046, 0.1240],\n",
              "         [0.2157, 0.4831, 0.2164, 0.1727],\n",
              "         [0.1728, 0.9318, 0.9115, 0.4023]], dtype=torch.float64))"
            ]
          },
          "metadata": {},
          "execution_count": 252
        }
      ],
      "source": [
        "for x, y in some_loader:\n",
        "    break\n",
        "\n",
        "len(x), x"
      ]
    },
    {
      "cell_type": "code",
      "execution_count": 253,
      "metadata": {
        "colab": {
          "base_uri": "https://localhost:8080/"
        },
        "id": "ttxEYvZToobv",
        "outputId": "e738e233-1c55-4ed2-9d82-243df832c812"
      },
      "outputs": [
        {
          "output_type": "execute_result",
          "data": {
            "text/plain": [
              "15"
            ]
          },
          "metadata": {},
          "execution_count": 253
        }
      ],
      "source": [
        "for x, y in some_loader:\n",
        "    pass\n",
        "\n",
        "len(x)"
      ]
    },
    {
      "cell_type": "code",
      "execution_count": 254,
      "metadata": {
        "colab": {
          "base_uri": "https://localhost:8080/"
        },
        "id": "Ser0gyywoobv",
        "outputId": "77467631-d09d-4727-acdb-42f381efabb3"
      },
      "outputs": [
        {
          "output_type": "execute_result",
          "data": {
            "text/plain": [
              "15"
            ]
          },
          "metadata": {},
          "execution_count": 254
        }
      ],
      "source": [
        "# почему 13?\n",
        "# потому что количество наших данных нацело не делится на 16\n",
        "# и поэтому последний батч меньше 16-ти\n",
        "len(some_dataset) % 16"
      ]
    },
    {
      "cell_type": "markdown",
      "metadata": {
        "id": "T0_mARjfoobw"
      },
      "source": [
        "# А зачем?"
      ]
    },
    {
      "cell_type": "code",
      "execution_count": 255,
      "metadata": {
        "id": "4FLBUtHKoobw"
      },
      "outputs": [],
      "source": [
        "class ToyDataset(Dataset):\n",
        "\n",
        "    def __init__(self, data_x, data_y):\n",
        "\n",
        "        super().__init__()\n",
        "\n",
        "        self.data_x = data_x\n",
        "        self.data_y = data_y\n",
        "\n",
        "    def __len__(self):\n",
        "\n",
        "        # Нужно обязательно определить эту функцию\n",
        "        # Должна возвращать размер датасета\n",
        "\n",
        "        return len(self.data_x)\n",
        "\n",
        "    @staticmethod\n",
        "    def add_pow_features(x, n=2):\n",
        "\n",
        "        return np.concatenate([x, x ** n])\n",
        "\n",
        "    @staticmethod\n",
        "    def add_log_features(x):\n",
        "\n",
        "        return np.concatenate([x, np.log(x)])\n",
        "\n",
        "    def __getitem__(self, idx):\n",
        "\n",
        "        # Еще нужно определить этот метод\n",
        "        # То есть как мы будем доставать наши данные по индексу\n",
        "\n",
        "        x = self.data_x[idx]\n",
        "\n",
        "        # внутри датасета мы можем делать все что угодно с нашими данными\n",
        "        # например выше определим функции, которые добавляют степенные фичи\n",
        "        x = self.add_pow_features(x, n=2)\n",
        "        x = self.add_pow_features(x, n=3)\n",
        "        # и еще возьмем логарифмические фичи\n",
        "        x = self.add_log_features(x)\n",
        "\n",
        "        y = self.data_y[idx]\n",
        "\n",
        "        return x, y"
      ]
    },
    {
      "cell_type": "code",
      "execution_count": 256,
      "metadata": {
        "id": "MC59RH8roobw"
      },
      "outputs": [],
      "source": [
        "toy_dataset = ToyDataset(some_data_x, some_data_y)"
      ]
    },
    {
      "cell_type": "code",
      "execution_count": 257,
      "metadata": {
        "id": "_M5LARryoobx"
      },
      "outputs": [],
      "source": [
        "toy_loader = DataLoader(dataset=toy_dataset, batch_size=128)"
      ]
    },
    {
      "cell_type": "code",
      "execution_count": 258,
      "metadata": {
        "id": "0wqWab_0ooby"
      },
      "outputs": [],
      "source": [
        "for x, y in toy_loader:\n",
        "    break"
      ]
    },
    {
      "cell_type": "code",
      "execution_count": 259,
      "metadata": {
        "colab": {
          "base_uri": "https://localhost:8080/"
        },
        "id": "coEEiBKhooby",
        "outputId": "253298f9-175b-44c1-da63-4ca421e54a3e"
      },
      "outputs": [
        {
          "output_type": "execute_result",
          "data": {
            "text/plain": [
              "torch.Size([128, 32])"
            ]
          },
          "metadata": {},
          "execution_count": 259
        }
      ],
      "source": [
        "x.shape"
      ]
    },
    {
      "cell_type": "code",
      "execution_count": 260,
      "metadata": {
        "colab": {
          "base_uri": "https://localhost:8080/"
        },
        "id": "VVx9KFy1ooby",
        "outputId": "6427566d-ea3e-4f4c-e484-0fff6f6f0b0c"
      },
      "outputs": [
        {
          "output_type": "execute_result",
          "data": {
            "text/plain": [
              "tensor([[  0.4050,   0.6888,   0.4029,  ...,  -2.2369,  -5.4544,  -2.0391],\n",
              "        [  0.8264,   0.9676,   0.2216,  ...,  -0.1974,  -9.0399,  -6.3494],\n",
              "        [  0.3405,   0.5257,   0.1344,  ...,  -3.8583, -12.0421,  -2.0979],\n",
              "        ...,\n",
              "        [  0.2456,   0.9786,   0.2887,  ...,  -0.1299,  -7.4545,  -4.3673],\n",
              "        [  0.1339,   0.6000,   0.9800,  ...,  -3.0649,  -0.1214,  -8.1820],\n",
              "        [  0.6145,   0.4274,   0.2721,  ...,  -5.1000,  -7.8105, -16.7016]],\n",
              "       dtype=torch.float64)"
            ]
          },
          "metadata": {},
          "execution_count": 260
        }
      ],
      "source": [
        "# заметим, что мы сразу получаем торчовый формат данных\n",
        "x"
      ]
    },
    {
      "cell_type": "code",
      "execution_count": 261,
      "metadata": {
        "colab": {
          "base_uri": "https://localhost:8080/"
        },
        "id": "Cz9PQDVqoobz",
        "outputId": "3cb1bb14-308e-46df-9dfb-902a6faf3276"
      },
      "outputs": [
        {
          "output_type": "execute_result",
          "data": {
            "text/plain": [
              "tensor([2, 1, 1, 1, 0, 0, 1, 0, 2, 1, 2, 0, 0, 0, 2, 1, 0, 2, 1, 0, 0, 2, 0, 2,\n",
              "        0, 2, 0, 2, 0, 1, 1, 0, 2, 1, 2, 1, 0, 1, 0, 0, 1, 2, 0, 1, 1, 2, 0, 1,\n",
              "        1, 1, 2, 1, 0, 0, 0, 2, 1, 2, 0, 0, 2, 0, 2, 0, 2, 1, 2, 2, 1, 0, 1, 1,\n",
              "        1, 0, 0, 2, 0, 2, 0, 2, 0, 1, 1, 0, 1, 1, 1, 2, 1, 1, 1, 2, 0, 0, 1, 0,\n",
              "        2, 2, 2, 0, 1, 2, 0, 0, 2, 0, 0, 0, 2, 2, 0, 0, 0, 2, 2, 2, 0, 2, 2, 0,\n",
              "        1, 2, 2, 2, 2, 0, 1, 1])"
            ]
          },
          "metadata": {},
          "execution_count": 261
        }
      ],
      "source": [
        "y"
      ]
    },
    {
      "cell_type": "markdown",
      "metadata": {
        "id": "hYlVJO_Yoobz"
      },
      "source": [
        "# Если вы ничего здесь не понимаете, то вернитесь в конец первой домашки, там все объясняется"
      ]
    },
    {
      "cell_type": "code",
      "execution_count": 262,
      "metadata": {
        "id": "9AFaDlW4oobz"
      },
      "outputs": [],
      "source": [
        "model = torch.nn.Sequential(torch.nn.Linear(32, 16),\n",
        "                            torch.nn.ReLU(),\n",
        "                            torch.nn.Linear(16, 8),\n",
        "                            torch.nn.ReLU(),\n",
        "                            torch.nn.Linear(8, 3))\n",
        "\n",
        "criterion = torch.nn.CrossEntropyLoss()"
      ]
    },
    {
      "cell_type": "code",
      "execution_count": 263,
      "metadata": {
        "colab": {
          "base_uri": "https://localhost:8080/"
        },
        "id": "bxY0M1wWoob0",
        "outputId": "9caa0631-a883-4d3f-ddb1-6f273094787d"
      },
      "outputs": [
        {
          "output_type": "execute_result",
          "data": {
            "text/plain": [
              "1.0936987400054932"
            ]
          },
          "metadata": {},
          "execution_count": 263
        }
      ],
      "source": [
        "with torch.no_grad():\n",
        "\n",
        "    prediction = model(x.float())\n",
        "\n",
        "    loss = criterion(prediction, y)\n",
        "\n",
        "loss.item()"
      ]
    },
    {
      "cell_type": "markdown",
      "metadata": {
        "id": "KYsWWiRWoob0"
      },
      "source": [
        "# Боевые датасеты"
      ]
    },
    {
      "cell_type": "code",
      "execution_count": 264,
      "metadata": {
        "id": "YAYb-_E1oob0"
      },
      "outputs": [],
      "source": [
        "class CBOWDataset(Dataset):\n",
        "\n",
        "    def __init__(self,\n",
        "                 corpus,\n",
        "                 word2index,\n",
        "                 window=2,\n",
        "                 unk_token='UNK',\n",
        "                 pad_token='PAD',\n",
        "                 collect_verbose=True):\n",
        "\n",
        "        self.corpus = corpus\n",
        "        self.word2index = word2index\n",
        "        self.index2word = {value: key for key, value in self.word2index.items()}\n",
        "        self.window = window\n",
        "\n",
        "        self.unk_token = unk_token\n",
        "        self.unk_index = self.word2index[self.unk_token]\n",
        "\n",
        "        self.pad_token = pad_token\n",
        "        self.pad_index = len(self.word2index)\n",
        "\n",
        "        self.collect_verbose = collect_verbose\n",
        "\n",
        "        self.data = []\n",
        "\n",
        "        self.collect_data()\n",
        "\n",
        "    def __len__(self):\n",
        "\n",
        "        return len(self.data)\n",
        "\n",
        "    def _split_function(self, tokenized_text):\n",
        "\n",
        "        splits = []\n",
        "\n",
        "        for n in range(len(tokenized_text)):\n",
        "            left_context = tokenized_text[np.maximum(n - self.window, 0):n]\n",
        "            left_context = ([self.pad_index] * (self.window - len(left_context))) + left_context\n",
        "\n",
        "            central_word = tokenized_text[n]\n",
        "\n",
        "            right_context = tokenized_text[n + 1:n + self.window + 1]\n",
        "            right_context = right_context + ([self.pad_index] * (self.window - len(right_context)))\n",
        "\n",
        "            splits.append((left_context + right_context, central_word))\n",
        "\n",
        "        return splits\n",
        "\n",
        "    def indexing(self, tokenized_text):\n",
        "\n",
        "        return [self.word2index[token] if token in self.word2index else self.unk_index for token in tokenized_text]\n",
        "\n",
        "    def collect_data(self):\n",
        "\n",
        "        corpus = tqdm(self.corpus, disable=not self.collect_verbose)\n",
        "\n",
        "        for tokenized_text in corpus:\n",
        "            indexed_text = self.indexing(tokenized_text)\n",
        "            cbow_examples = self._split_function(indexed_text)\n",
        "\n",
        "            self.data.extend(cbow_examples)\n",
        "\n",
        "    def __getitem__(self, idx):\n",
        "\n",
        "        context, central_word = self.data[idx]\n",
        "\n",
        "        context = torch.Tensor(context).long()\n",
        "\n",
        "        return context, central_word"
      ]
    },
    {
      "cell_type": "markdown",
      "metadata": {
        "id": "VZiN_rVPoob1"
      },
      "source": [
        "# Мы будем учить модель Skipgram\n",
        "Реализуйте читалку данных"
      ]
    },
    {
      "cell_type": "code",
      "execution_count": 265,
      "metadata": {
        "id": "KIXQ-YMXoob1"
      },
      "outputs": [],
      "source": [
        "class SkipgramDataset(Dataset):\n",
        "\n",
        "    def __init__(self,\n",
        "                 corpus,\n",
        "                 word2index,\n",
        "                 window=2,\n",
        "                 unk_token='UNK',\n",
        "                 collect_verbose=True):\n",
        "\n",
        "        self.corpus = corpus\n",
        "        self.word2index = word2index\n",
        "        self.index2word = {value: key for key, value in self.word2index.items()}\n",
        "        self.window = window\n",
        "\n",
        "        self.unk_token = unk_token\n",
        "        self.unk_index = self.word2index[self.unk_token]\n",
        "\n",
        "        self.collect_verbose = collect_verbose\n",
        "\n",
        "        self.data = []\n",
        "\n",
        "        self.collect_data()\n",
        "\n",
        "    def __len__(self):\n",
        "\n",
        "        return len(self.data)\n",
        "\n",
        "    def _split_function(self, tokenized_text):\n",
        "\n",
        "        # CODE\n",
        "\n",
        "        # вставить здесь функцию, которые вы писали раньше\n",
        "\n",
        "        splits = []\n",
        "\n",
        "        for i in range(len(tokenized_text)):\n",
        "            start = i - self.window if i > self.window else 0\n",
        "            cntxt = tokenized_text[start:i + self.window + 1]\n",
        "            cntxt.remove(tokenized_text[i])\n",
        "\n",
        "            for w in cntxt:\n",
        "                splits.append((w, tokenized_text[i]))\n",
        "\n",
        "        return splits\n",
        "\n",
        "    def indexing(self, tokenized_text):\n",
        "\n",
        "        return [self.word2index[token] if token in self.word2index else self.unk_index for token in tokenized_text]\n",
        "\n",
        "    def collect_data(self):\n",
        "\n",
        "        corpus = tqdm(self.corpus, disable=not self.collect_verbose)\n",
        "\n",
        "        for tokenized_text in corpus:\n",
        "            indexed_text = self.indexing(tokenized_text)\n",
        "            skipgram_examples = self._split_function(indexed_text)\n",
        "\n",
        "            self.data.extend(skipgram_examples)\n",
        "\n",
        "    def __getitem__(self, idx):\n",
        "\n",
        "        # CODE\n",
        "        context, central_word = self.data[idx]\n",
        "\n",
        "        return context, central_word"
      ]
    },
    {
      "cell_type": "code",
      "execution_count": 266,
      "metadata": {
        "id": "z6Ls2Ja2oob1"
      },
      "outputs": [],
      "source": [
        "# можете положить SkipgramDataset в отдельный файлик, например word2vec_utils и относительным импортом достать его\n",
        "#from .word2vec_utils import SkipgramDataset"
      ]
    },
    {
      "cell_type": "code",
      "execution_count": 267,
      "metadata": {
        "scrolled": true,
        "colab": {
          "base_uri": "https://localhost:8080/"
        },
        "id": "9ILlWWUXoob1",
        "outputId": "563733cb-2433-4933-8522-5d2574fbdaf4"
      },
      "outputs": [
        {
          "output_type": "stream",
          "name": "stderr",
          "text": [
            "100%|██████████| 100000/100000 [00:01<00:00, 82499.66it/s]\n"
          ]
        }
      ],
      "source": [
        "dataset = SkipgramDataset(corpus, word2index)"
      ]
    },
    {
      "cell_type": "code",
      "execution_count": 268,
      "metadata": {
        "id": "keZvK6Tdoob1"
      },
      "outputs": [],
      "source": [
        "BATCH_SIZE = 512"
      ]
    },
    {
      "cell_type": "code",
      "execution_count": 269,
      "metadata": {
        "id": "Bv-gUtvmoob1"
      },
      "outputs": [],
      "source": [
        "dataset_loader = DataLoader(dataset, shuffle=True, batch_size=BATCH_SIZE)"
      ]
    },
    {
      "cell_type": "code",
      "execution_count": 270,
      "metadata": {
        "id": "rezKe9Ydoob1"
      },
      "outputs": [],
      "source": [
        "for x, y in dataset_loader:\n",
        "    break"
      ]
    },
    {
      "cell_type": "code",
      "execution_count": 271,
      "metadata": {
        "colab": {
          "base_uri": "https://localhost:8080/"
        },
        "id": "bgaaB_zzoob3",
        "outputId": "2ed7bbf0-6ff4-47a7-ba53-8b165e7f62c7"
      },
      "outputs": [
        {
          "output_type": "execute_result",
          "data": {
            "text/plain": [
              "tensor([ 368, 1791,  124,   60,   52])"
            ]
          },
          "metadata": {},
          "execution_count": 271
        }
      ],
      "source": [
        "x[:5]"
      ]
    },
    {
      "cell_type": "code",
      "execution_count": 272,
      "metadata": {
        "colab": {
          "base_uri": "https://localhost:8080/"
        },
        "id": "GIcnfmpWoob3",
        "outputId": "699a08b1-49f2-433c-c57c-1577231eb011"
      },
      "outputs": [
        {
          "output_type": "execute_result",
          "data": {
            "text/plain": [
              "tensor([ 638, 3196, 5967,   44,  252])"
            ]
          },
          "metadata": {},
          "execution_count": 272
        }
      ],
      "source": [
        "y[:5]"
      ]
    },
    {
      "cell_type": "code",
      "execution_count": 273,
      "metadata": {
        "colab": {
          "base_uri": "https://localhost:8080/"
        },
        "id": "1yOR5t86oob3",
        "outputId": "78b025a9-a228-4712-aaf7-151f9c7f4d7b"
      },
      "outputs": [
        {
          "output_type": "execute_result",
          "data": {
            "text/plain": [
              "(torch.Size([512]), torch.Size([512]))"
            ]
          },
          "metadata": {},
          "execution_count": 273
        }
      ],
      "source": [
        "x.shape, y.shape"
      ]
    },
    {
      "cell_type": "code",
      "execution_count": 274,
      "metadata": {
        "id": "RgQUE9Aaoob3"
      },
      "outputs": [],
      "source": [
        "class CBOW(torch.nn.Module):\n",
        "\n",
        "    def __init__(self, vocab_size, embedding_dim, pad_index):\n",
        "\n",
        "        super().__init__()\n",
        "\n",
        "        if pad_index > 0:\n",
        "            vocab_size += 1\n",
        "\n",
        "        self.in_embedding = torch.nn.Embedding(num_embeddings=vocab_size,\n",
        "                                               embedding_dim=embedding_dim,\n",
        "                                               padding_idx=pad_index)\n",
        "\n",
        "        self.out_embedding = torch.nn.Linear(in_features=embedding_dim,\n",
        "                                             out_features=vocab_size, bias=False)\n",
        "\n",
        "    def forward(self, x):\n",
        "\n",
        "        x = self.in_embedding(x).sum(dim=-2)\n",
        "        x = self.out_embedding(x)\n",
        "\n",
        "        return x"
      ]
    },
    {
      "cell_type": "markdown",
      "metadata": {
        "id": "v8vpmGOWoob3"
      },
      "source": [
        "# Мы будем учить модель Skipgram\n",
        "Реализуйте ее"
      ]
    },
    {
      "cell_type": "code",
      "execution_count": 275,
      "metadata": {
        "id": "pcWTx-4Woob3"
      },
      "outputs": [],
      "source": [
        "# CODE\n",
        "class SkipGram(torch.nn.Module):\n",
        "    def __init__(self,\n",
        "                 vocab_size,\n",
        "                 embedding_dim):\n",
        "        super().__init__()\n",
        "\n",
        "        self.in_embedding = torch.nn.Embedding(num_embeddings=vocab_size,\n",
        "                                               embedding_dim=embedding_dim)\n",
        "\n",
        "        self.out_embedding = torch.nn.Linear(in_features=embedding_dim,\n",
        "                                             out_features=vocab_size,\n",
        "                                             bias=False)\n",
        "\n",
        "    def forward(self, x):\n",
        "        x = self.in_embedding(x)\n",
        "        x = self.out_embedding(x)\n",
        "\n",
        "        return x"
      ]
    },
    {
      "cell_type": "code",
      "execution_count": 276,
      "metadata": {
        "id": "7fy8pTkboob4"
      },
      "outputs": [],
      "source": [
        "#from word2vec_utils import SkipGram"
      ]
    },
    {
      "cell_type": "code",
      "execution_count": 277,
      "metadata": {
        "id": "ejErXUU6oob4"
      },
      "outputs": [],
      "source": [
        "# размерность эмбеддинга\n",
        "# маленькая, чтобы мы могли недолго поучить ворд2век и увидеть результаты\n",
        "EMBEDDING_DIM = 20"
      ]
    },
    {
      "cell_type": "code",
      "execution_count": 278,
      "metadata": {
        "id": "3qOemDQ7oob4"
      },
      "outputs": [],
      "source": [
        "model = SkipGram(vocab_size=len(word2index), embedding_dim=EMBEDDING_DIM)"
      ]
    },
    {
      "cell_type": "code",
      "execution_count": 279,
      "metadata": {
        "colab": {
          "base_uri": "https://localhost:8080/"
        },
        "id": "GcfWG_Upoob5",
        "outputId": "414e04c6-a8c9-439e-dd12-f43ba45db8b4"
      },
      "outputs": [
        {
          "output_type": "execute_result",
          "data": {
            "text/plain": [
              "torch.Size([512, 13076])"
            ]
          },
          "metadata": {},
          "execution_count": 279
        }
      ],
      "source": [
        "with torch.no_grad():\n",
        "    pred = model(x)\n",
        "\n",
        "pred.shape"
      ]
    },
    {
      "cell_type": "code",
      "source": [
        "device = \"cuda\" if torch.cuda.is_available() else \"cpu\"\n",
        "model.to(device)\n",
        "\n",
        "device"
      ],
      "metadata": {
        "colab": {
          "base_uri": "https://localhost:8080/",
          "height": 35
        },
        "id": "ixrNc0DADIYq",
        "outputId": "202fae11-64c7-4066-8412-9b5dc364bd6a"
      },
      "execution_count": 280,
      "outputs": [
        {
          "output_type": "execute_result",
          "data": {
            "text/plain": [
              "'cuda'"
            ],
            "application/vnd.google.colaboratory.intrinsic+json": {
              "type": "string"
            }
          },
          "metadata": {},
          "execution_count": 280
        }
      ]
    },
    {
      "cell_type": "code",
      "execution_count": 281,
      "metadata": {
        "id": "KZhVgLBcoob6"
      },
      "outputs": [],
      "source": [
        "optimizer = torch.optim.Adam(params=model.parameters(), lr=0.0001)\n",
        "\n",
        "# aka loss function\n",
        "criterion = torch.nn.CrossEntropyLoss()"
      ]
    },
    {
      "cell_type": "markdown",
      "metadata": {
        "id": "5dJzOAmWoob6"
      },
      "source": [
        "# Допишите обучалку"
      ]
    },
    {
      "cell_type": "code",
      "execution_count": 282,
      "metadata": {
        "colab": {
          "base_uri": "https://localhost:8080/"
        },
        "id": "i5ueOtIXoob6",
        "outputId": "b46d050c-e20e-4cdc-c58e-469efeebaf47"
      },
      "outputs": [
        {
          "output_type": "stream",
          "name": "stderr",
          "text": [
            "Epoch 1: 100%|██████████| 2983124/2983124 [00:35<00:00, 82944.25it/s, loss=9.23]\n",
            "Epoch 2: 100%|██████████| 2983124/2983124 [00:36<00:00, 81307.61it/s, loss=8.37]\n",
            "Epoch 3: 100%|██████████| 2983124/2983124 [00:35<00:00, 83117.04it/s, loss=7.77]\n",
            "Epoch 4: 100%|██████████| 2983124/2983124 [00:36<00:00, 82716.28it/s, loss=7.47]\n",
            "Epoch 5: 100%|██████████| 2983124/2983124 [00:36<00:00, 82360.91it/s, loss=7.33]\n"
          ]
        }
      ],
      "source": [
        "epochs = 5\n",
        "\n",
        "losses = []\n",
        "\n",
        "for n_epoch in range(epochs):\n",
        "\n",
        "    try:\n",
        "\n",
        "        progress_bar = tqdm(total=len(dataset_loader.dataset), desc='Epoch {}'.format(n_epoch + 1))\n",
        "\n",
        "        for x, y in dataset_loader:\n",
        "\n",
        "            # CODE\n",
        "            x = x.to(device)\n",
        "            y = y.to(device)\n",
        "\n",
        "            optimizer.zero_grad()\n",
        "            pred = model(x)\n",
        "\n",
        "            loss = criterion(pred, y) # CODE\n",
        "\n",
        "            # CODE\n",
        "            loss.backward()\n",
        "            optimizer.step()\n",
        "\n",
        "            losses.append(loss.item())\n",
        "\n",
        "            progress_bar.set_postfix(loss=np.mean(losses[-100:]))\n",
        "\n",
        "            progress_bar.update(x.shape[0])\n",
        "\n",
        "        progress_bar.close()\n",
        "\n",
        "    except KeyboardInterrupt:\n",
        "\n",
        "        progress_bar.close()\n",
        "        break"
      ]
    },
    {
      "cell_type": "code",
      "execution_count": 283,
      "metadata": {
        "colab": {
          "base_uri": "https://localhost:8080/",
          "height": 1000
        },
        "id": "E1upD7L9oob8",
        "outputId": "31cbb513-6e28-441e-a822-fe004923ee79"
      },
      "outputs": [
        {
          "output_type": "execute_result",
          "data": {
            "text/plain": [
              "[<matplotlib.lines.Line2D at 0x7e6dd035ce20>]"
            ]
          },
          "metadata": {},
          "execution_count": 283
        },
        {
          "output_type": "display_data",
          "data": {
            "text/plain": [
              "<Figure size 1500x1500 with 1 Axes>"
            ],
            "image/png": "[encoded data removed]"
          },
          "metadata": {}
        }
      ],
      "source": [
        "plt.title('SkipGram Training Process')\n",
        "plt.xlabel('Itearations')\n",
        "plt.ylabel('Loss')\n",
        "plt.grid()\n",
        "plt.plot(losses)"
      ]
    },
    {
      "cell_type": "code",
      "execution_count": 284,
      "metadata": {
        "id": "v1yu6a-Loob8"
      },
      "outputs": [],
      "source": [
        "# проверка, что хоть что-то выучилось\n",
        "assert np.mean(losses[-1000:]) < 7.5"
      ]
    },
    {
      "cell_type": "code",
      "execution_count": 285,
      "metadata": {
        "id": "W9PG6okloob9"
      },
      "outputs": [],
      "source": [
        "embedding_matrix = model.in_embedding.weight.detach()"
      ]
    },
    {
      "cell_type": "code",
      "execution_count": 286,
      "metadata": {
        "id": "c7l7itj8oob9"
      },
      "outputs": [],
      "source": [
        "def cos_sim(embedding_matrix, token2id, word1, word2):\n",
        "\n",
        "    i1 = token2id[word1]\n",
        "    i2 = token2id[word2]\n",
        "\n",
        "    v1, v2 = embedding_matrix[i1], embedding_matrix[i2]\n",
        "\n",
        "    v1_n = v1.div(v1.norm(keepdim=True))\n",
        "    v2_n = v2.div(v2.norm(keepdim=True))\n",
        "\n",
        "    similarity = torch.dot(v1_n, v2_n).item()\n",
        "\n",
        "    return similarity"
      ]
    },
    {
      "cell_type": "markdown",
      "metadata": {
        "id": "nKMAJMBooob9"
      },
      "source": [
        "# Косинусная близость\n",
        "От 0 до 1, где 0 - вектора абсолютно разные, где 1 - идентичные."
      ]
    },
    {
      "cell_type": "code",
      "execution_count": 287,
      "metadata": {
        "colab": {
          "base_uri": "https://localhost:8080/"
        },
        "id": "h7bK5zU2oob9",
        "outputId": "85dffbb9-6a9b-4330-c417-699a85c715a0"
      },
      "outputs": [
        {
          "output_type": "execute_result",
          "data": {
            "text/plain": [
              "0.5548673272132874"
            ]
          },
          "metadata": {},
          "execution_count": 287
        }
      ],
      "source": [
        "cos_sim(embedding_matrix, word2index, 'день', 'месяц')"
      ]
    },
    {
      "cell_type": "code",
      "execution_count": 288,
      "metadata": {
        "colab": {
          "base_uri": "https://localhost:8080/"
        },
        "id": "qGscxz-noob9",
        "outputId": "a1222882-a47c-4695-fe93-4c616c255769"
      },
      "outputs": [
        {
          "output_type": "execute_result",
          "data": {
            "text/plain": [
              "0.4784545302391052"
            ]
          },
          "metadata": {},
          "execution_count": 288
        }
      ],
      "source": [
        "cos_sim(embedding_matrix, word2index, 'минута', 'месяц')"
      ]
    },
    {
      "cell_type": "code",
      "execution_count": 289,
      "metadata": {
        "colab": {
          "base_uri": "https://localhost:8080/"
        },
        "id": "jYCKAuESoob9",
        "outputId": "d45f93f8-08c2-4b9c-8fbf-28ae4981b260"
      },
      "outputs": [
        {
          "output_type": "execute_result",
          "data": {
            "text/plain": [
              "0.25858575105667114"
            ]
          },
          "metadata": {},
          "execution_count": 289
        }
      ],
      "source": [
        "cos_sim(embedding_matrix, word2index, 'сотрудник', 'сотрудница')"
      ]
    },
    {
      "cell_type": "code",
      "execution_count": 290,
      "metadata": {
        "colab": {
          "base_uri": "https://localhost:8080/"
        },
        "id": "aF6F0rrXoob-",
        "outputId": "d0cb96be-583f-46c9-91cd-ea04968ec4cb"
      },
      "outputs": [
        {
          "output_type": "execute_result",
          "data": {
            "text/plain": [
              "-0.034402698278427124"
            ]
          },
          "metadata": {},
          "execution_count": 290
        }
      ],
      "source": [
        "cos_sim(embedding_matrix, word2index, 'вклад', 'перевод')"
      ]
    },
    {
      "cell_type": "code",
      "execution_count": 291,
      "metadata": {
        "colab": {
          "base_uri": "https://localhost:8080/",
          "height": 35
        },
        "id": "Tax4D7KZoob_",
        "outputId": "3090f441-c09b-4fa8-9d5d-af73fea2ace9"
      },
      "outputs": [
        {
          "output_type": "execute_result",
          "data": {
            "text/plain": [
              "'Косинусная близость слова \"день\" к случайному выбраному слову \"островский\" равна -0.077'"
            ],
            "application/vnd.google.colaboratory.intrinsic+json": {
              "type": "string"
            }
          },
          "metadata": {},
          "execution_count": 291
        }
      ],
      "source": [
        "random_word = random.choice(list(word2index.keys()))\n",
        "sim = cos_sim(embedding_matrix, word2index, 'день', random_word)\n",
        "'Косинусная близость слова \"день\" к случайному выбраному слову \"{}\" равна {:.3f}'.format(random_word, sim)"
      ]
    },
    {
      "cell_type": "code",
      "execution_count": 292,
      "metadata": {
        "id": "lgP3eCrDoob_"
      },
      "outputs": [],
      "source": [
        "freq = {}\n",
        "\n",
        "for text in corpus:\n",
        "    for token in text:\n",
        "        if token in freq:\n",
        "            freq[token] += 1\n",
        "        else:\n",
        "            freq[token] = 1"
      ]
    },
    {
      "cell_type": "code",
      "execution_count": 293,
      "metadata": {
        "id": "iRT7Uuh7oob_"
      },
      "outputs": [],
      "source": [
        "sorted_freq = [(k, freq[k]) for k in sorted(freq, key=freq.get, reverse=True)]\n",
        "top_sorted_freq = sorted_freq[0:200]"
      ]
    },
    {
      "cell_type": "code",
      "execution_count": 294,
      "metadata": {
        "colab": {
          "base_uri": "https://localhost:8080/"
        },
        "id": "0RBUJbCdoocA",
        "outputId": "19162036-14c2-438a-960f-f661a16a72d7"
      },
      "outputs": [
        {
          "output_type": "stream",
          "name": "stdout",
          "text": [
            "[t-SNE] Computing 91 nearest neighbors...\n",
            "[t-SNE] Indexed 13076 samples in 0.001s...\n",
            "[t-SNE] Computed neighbors for 13076 samples in 1.062s...\n",
            "[t-SNE] Computed conditional probabilities for sample 1000 / 13076\n",
            "[t-SNE] Computed conditional probabilities for sample 2000 / 13076\n",
            "[t-SNE] Computed conditional probabilities for sample 3000 / 13076\n",
            "[t-SNE] Computed conditional probabilities for sample 4000 / 13076\n",
            "[t-SNE] Computed conditional probabilities for sample 5000 / 13076\n",
            "[t-SNE] Computed conditional probabilities for sample 6000 / 13076\n",
            "[t-SNE] Computed conditional probabilities for sample 7000 / 13076\n",
            "[t-SNE] Computed conditional probabilities for sample 8000 / 13076\n",
            "[t-SNE] Computed conditional probabilities for sample 9000 / 13076\n",
            "[t-SNE] Computed conditional probabilities for sample 10000 / 13076\n",
            "[t-SNE] Computed conditional probabilities for sample 11000 / 13076\n",
            "[t-SNE] Computed conditional probabilities for sample 12000 / 13076\n",
            "[t-SNE] Computed conditional probabilities for sample 13000 / 13076\n",
            "[t-SNE] Computed conditional probabilities for sample 13076 / 13076\n",
            "[t-SNE] Mean sigma: 1.209309\n",
            "[t-SNE] Computed conditional probabilities in 0.316s\n",
            "[t-SNE] Iteration 50: error = 98.8174438, gradient norm = 0.0000000 (50 iterations in 8.450s)\n",
            "[t-SNE] Iteration 50: gradient norm 0.000000. Finished.\n",
            "[t-SNE] KL divergence after 50 iterations with early exaggeration: 98.817444\n",
            "[t-SNE] Iteration 100: error = 5.7294731, gradient norm = 0.0275507 (50 iterations in 7.312s)\n",
            "[t-SNE] Iteration 150: error = 4.8999438, gradient norm = 0.0043680 (50 iterations in 4.927s)\n",
            "[t-SNE] Iteration 200: error = 4.8026419, gradient norm = 0.0048887 (50 iterations in 8.249s)\n",
            "[t-SNE] Iteration 250: error = 4.7277069, gradient norm = 0.0049829 (50 iterations in 4.673s)\n",
            "[t-SNE] Iteration 300: error = 4.6689110, gradient norm = 0.0051590 (50 iterations in 6.669s)\n",
            "[t-SNE] Iteration 350: error = 4.6214085, gradient norm = 0.0050954 (50 iterations in 6.303s)\n",
            "[t-SNE] Iteration 400: error = 4.5822911, gradient norm = 0.0050830 (50 iterations in 4.775s)\n",
            "[t-SNE] Iteration 450: error = 4.5501289, gradient norm = 0.0048896 (50 iterations in 8.314s)\n",
            "[t-SNE] Iteration 500: error = 4.5236421, gradient norm = 0.0047037 (50 iterations in 4.659s)\n",
            "[t-SNE] Iteration 550: error = 4.5015659, gradient norm = 0.0044954 (50 iterations in 4.696s)\n",
            "[t-SNE] Iteration 600: error = 4.4830990, gradient norm = 0.0042368 (50 iterations in 8.239s)\n",
            "[t-SNE] Iteration 650: error = 4.4676886, gradient norm = 0.0039735 (50 iterations in 4.741s)\n",
            "[t-SNE] Iteration 700: error = 4.4545679, gradient norm = 0.0037494 (50 iterations in 5.948s)\n",
            "[t-SNE] Iteration 750: error = 4.4433441, gradient norm = 0.0035310 (50 iterations in 7.018s)\n",
            "[t-SNE] Iteration 800: error = 4.4335985, gradient norm = 0.0033393 (50 iterations in 4.647s)\n",
            "[t-SNE] Iteration 850: error = 4.4251957, gradient norm = 0.0031305 (50 iterations in 8.039s)\n",
            "[t-SNE] Iteration 900: error = 4.4180212, gradient norm = 0.0028870 (50 iterations in 4.954s)\n",
            "[t-SNE] Iteration 950: error = 4.4117112, gradient norm = 0.0027381 (50 iterations in 4.683s)\n",
            "[t-SNE] Iteration 1000: error = 4.4060478, gradient norm = 0.0025581 (50 iterations in 8.218s)\n",
            "[t-SNE] KL divergence after 1000 iterations: 4.406048\n"
          ]
        }
      ],
      "source": [
        "tsne = TSNE(n_components=2, init='pca', random_state=42, verbose=2)\n",
        "reduced = tsne.fit_transform(embedding_matrix.cpu())"
      ]
    },
    {
      "cell_type": "code",
      "execution_count": 295,
      "metadata": {
        "id": "4FoMnEMToocA"
      },
      "outputs": [],
      "source": [
        "top_words = [a for a,_ in top_sorted_freq]"
      ]
    },
    {
      "cell_type": "code",
      "execution_count": 296,
      "metadata": {
        "id": "0bznf6nOoocB"
      },
      "outputs": [],
      "source": [
        "inds = [word2index[word] for word in top_words]\n",
        "x_coords = [coords[0] for coords in reduced[inds]]\n",
        "y_coords = [coords[1] for coords in reduced[inds]]"
      ]
    },
    {
      "cell_type": "code",
      "execution_count": 297,
      "metadata": {
        "colab": {
          "base_uri": "https://localhost:8080/",
          "height": 1000
        },
        "id": "zeSu1vx0oocB",
        "outputId": "c3e8b98b-e56b-4a66-ba5d-86d27cc1394f"
      },
      "outputs": [
        {
          "output_type": "display_data",
          "data": {
            "text/plain": [
              "<Figure size 1500x1500 with 1 Axes>"
            ],
            "image/png": "[encoded data removed]"
          },
          "metadata": {}
        }
      ],
      "source": [
        "for (x, y, word) in zip(x_coords, y_coords, top_words):\n",
        "    plt.scatter(x, y, marker='.', color='blue')\n",
        "    plt.text(x+0.01, y+0.01, word, fontsize=9)\n",
        "plt.show()"
      ]
    },
    {
      "cell_type": "code",
      "execution_count": 297,
      "metadata": {
        "id": "1A1w4h6noocB"
      },
      "outputs": [],
      "source": []
    },
    {
      "cell_type": "markdown",
      "source": [
        "# Оценка\n",
        "1. Вы добрались сюда и все работает, значит уже получили 7 баллов.\n",
        "2. 8 баллов - Взяли корпус для оценка качества эмбеддингов [здесь](https://rusvectores.org/static/testsets/ru_simlex965_tagged.tsv). Описание к нему [здесь](https://arxiv.org/pdf/1801.06407.pdf). Его английская версия для понимания, того что же это такое [тут](https://fh295.github.io/simlex.html). Если в кратце - он похож а гугл аналогии, просто иначе составлен. Определили качество своих эмбеддингов. Как качество измерить? Можете все значения отнормировать (привести к 1) и затем считать MSE между тем что у вас и что в оригинале.\n",
        "3. 9 баллов - Поставили эксперименты, поменяли любые параметры, хоть корпус увеличили или как то почистили. Показали метрики до и после. После должно быть лучше, иначе это все еще 8 баллов.\n",
        "4. 10 баллов - удивили своим подходом (или просто удивили) пока делили на 9 баллов"
      ],
      "metadata": {
        "collapsed": false,
        "id": "K9Lvj8GIoocB"
      }
    },
    {
      "cell_type": "code",
      "execution_count": 310,
      "outputs": [
        {
          "output_type": "execute_result",
          "data": {
            "text/plain": [
              "             # Word1            Word2  Average Score\n",
              "0        авария_NOUN    бедствие_NOUN           6.15\n",
              "1        август_NOUN       месяц_NOUN           2.85\n",
              "2       авиация_NOUN       полет_NOUN           6.77\n",
              "3    автомобиль_NOUN       гудок_NOUN           1.85\n",
              "4    автомобиль_NOUN  автострада_NOUN           1.23\n",
              "..               ...              ...            ...\n",
              "960      яблоко_NOUN      солнце_NOUN           0.15\n",
              "961        ядро_NOUN       пушка_NOUN           2.77\n",
              "962        язык_NOUN       горло_NOUN           1.38\n",
              "963         ярд_NOUN        дюйм_NOUN           2.62\n",
              "964     яростный_ADJ         злой_ADJ           7.46\n",
              "\n",
              "[965 rows x 3 columns]"
            ],
            "text/html": [
              "\n",
              "  <div id=\"df-86caf69f-e029-4bdb-b3ed-559eeed17cd6\" class=\"colab-df-container\">\n",
              "    <div>\n",
              "<style scoped>\n",
              "    .dataframe tbody tr th:only-of-type {\n",
              "        vertical-align: middle;\n",
              "    }\n",
              "\n",
              "    .dataframe tbody tr th {\n",
              "        vertical-align: top;\n",
              "    }\n",
              "\n",
              "    .dataframe thead th {\n",
              "        text-align: right;\n",
              "    }\n",
              "</style>\n",
              "<table border=\"1\" class=\"dataframe\">\n",
              "  <thead>\n",
              "    <tr style=\"text-align: right;\">\n",
              "      <th></th>\n",
              "      <th># Word1</th>\n",
              "      <th>Word2</th>\n",
              "      <th>Average Score</th>\n",
              "    </tr>\n",
              "  </thead>\n",
              "  <tbody>\n",
              "    <tr>\n",
              "      <th>0</th>\n",
              "      <td>авария_NOUN</td>\n",
              "      <td>бедствие_NOUN</td>\n",
              "      <td>6.15</td>\n",
              "    </tr>\n",
              "    <tr>\n",
              "      <th>1</th>\n",
              "      <td>август_NOUN</td>\n",
              "      <td>месяц_NOUN</td>\n",
              "      <td>2.85</td>\n",
              "    </tr>\n",
              "    <tr>\n",
              "      <th>2</th>\n",
              "      <td>авиация_NOUN</td>\n",
              "      <td>полет_NOUN</td>\n",
              "      <td>6.77</td>\n",
              "    </tr>\n",
              "    <tr>\n",
              "      <th>3</th>\n",
              "      <td>автомобиль_NOUN</td>\n",
              "      <td>гудок_NOUN</td>\n",
              "      <td>1.85</td>\n",
              "    </tr>\n",
              "    <tr>\n",
              "      <th>4</th>\n",
              "      <td>автомобиль_NOUN</td>\n",
              "      <td>автострада_NOUN</td>\n",
              "      <td>1.23</td>\n",
              "    </tr>\n",
              "    <tr>\n",
              "      <th>...</th>\n",
              "      <td>...</td>\n",
              "      <td>...</td>\n",
              "      <td>...</td>\n",
              "    </tr>\n",
              "    <tr>\n",
              "      <th>960</th>\n",
              "      <td>яблоко_NOUN</td>\n",
              "      <td>солнце_NOUN</td>\n",
              "      <td>0.15</td>\n",
              "    </tr>\n",
              "    <tr>\n",
              "      <th>961</th>\n",
              "      <td>ядро_NOUN</td>\n",
              "      <td>пушка_NOUN</td>\n",
              "      <td>2.77</td>\n",
              "    </tr>\n",
              "    <tr>\n",
              "      <th>962</th>\n",
              "      <td>язык_NOUN</td>\n",
              "      <td>горло_NOUN</td>\n",
              "      <td>1.38</td>\n",
              "    </tr>\n",
              "    <tr>\n",
              "      <th>963</th>\n",
              "      <td>ярд_NOUN</td>\n",
              "      <td>дюйм_NOUN</td>\n",
              "      <td>2.62</td>\n",
              "    </tr>\n",
              "    <tr>\n",
              "      <th>964</th>\n",
              "      <td>яростный_ADJ</td>\n",
              "      <td>злой_ADJ</td>\n",
              "      <td>7.46</td>\n",
              "    </tr>\n",
              "  </tbody>\n",
              "</table>\n",
              "<p>965 rows × 3 columns</p>\n",
              "</div>\n",
              "    <div class=\"colab-df-buttons\">\n",
              "\n",
              "  <div class=\"colab-df-container\">\n",
              "    <button class=\"colab-df-convert\" onclick=\"convertToInteractive('df-86caf69f-e029-4bdb-b3ed-559eeed17cd6')\"\n",
              "            title=\"Convert this dataframe to an interactive table.\"\n",
              "            style=\"display:none;\">\n",
              "\n",
              "  <svg xmlns=\"http://www.w3.org/2000/svg\" height=\"24px\" viewBox=\"0 -960 960 960\">\n",
              "    <path d=\"M120-120v-720h720v720H120Zm60-500h600v-160H180v160Zm220 220h160v-160H400v160Zm0 220h160v-160H400v160ZM180-400h160v-160H180v160Zm440 0h160v-160H620v160ZM180-180h160v-160H180v160Zm440 0h160v-160H620v160Z\"/>\n",
              "  </svg>\n",
              "    </button>\n",
              "\n",
              "  <style>\n",
              "    .colab-df-container {\n",
              "      display:flex;\n",
              "      gap: 12px;\n",
              "    }\n",
              "\n",
              "    .colab-df-convert {\n",
              "      background-color: #E8F0FE;\n",
              "      border: none;\n",
              "      border-radius: 50%;\n",
              "      cursor: pointer;\n",
              "      display: none;\n",
              "      fill: #1967D2;\n",
              "      height: 32px;\n",
              "      padding: 0 0 0 0;\n",
              "      width: 32px;\n",
              "    }\n",
              "\n",
              "    .colab-df-convert:hover {\n",
              "      background-color: #E2EBFA;\n",
              "      box-shadow: 0px 1px 2px rgba(60, 64, 67, 0.3), 0px 1px 3px 1px rgba(60, 64, 67, 0.15);\n",
              "      fill: #174EA6;\n",
              "    }\n",
              "\n",
              "    .colab-df-buttons div {\n",
              "      margin-bottom: 4px;\n",
              "    }\n",
              "\n",
              "    [theme=dark] .colab-df-convert {\n",
              "      background-color: #3B4455;\n",
              "      fill: #D2E3FC;\n",
              "    }\n",
              "\n",
              "    [theme=dark] .colab-df-convert:hover {\n",
              "      background-color: #434B5C;\n",
              "      box-shadow: 0px 1px 3px 1px rgba(0, 0, 0, 0.15);\n",
              "      filter: drop-shadow(0px 1px 2px rgba(0, 0, 0, 0.3));\n",
              "      fill: #FFFFFF;\n",
              "    }\n",
              "  </style>\n",
              "\n",
              "    <script>\n",
              "      const buttonEl =\n",
              "        document.querySelector('#df-86caf69f-e029-4bdb-b3ed-559eeed17cd6 button.colab-df-convert');\n",
              "      buttonEl.style.display =\n",
              "        google.colab.kernel.accessAllowed ? 'block' : 'none';\n",
              "\n",
              "      async function convertToInteractive(key) {\n",
              "        const element = document.querySelector('#df-86caf69f-e029-4bdb-b3ed-559eeed17cd6');\n",
              "        const dataTable =\n",
              "          await google.colab.kernel.invokeFunction('convertToInteractive',\n",
              "                                                    [key], {});\n",
              "        if (!dataTable) return;\n",
              "\n",
              "        const docLinkHtml = 'Like what you see? Visit the ' +\n",
              "          '<a target=\"_blank\" href=https://colab.research.google.com/notebooks/data_table.ipynb>data table notebook</a>'\n",
              "          + ' to learn more about interactive tables.';\n",
              "        element.innerHTML = '';\n",
              "        dataTable['output_type'] = 'display_data';\n",
              "        await google.colab.output.renderOutput(dataTable, element);\n",
              "        const docLink = document.createElement('div');\n",
              "        docLink.innerHTML = docLinkHtml;\n",
              "        element.appendChild(docLink);\n",
              "      }\n",
              "    </script>\n",
              "  </div>\n",
              "\n",
              "\n",
              "<div id=\"df-5a5db3a7-0452-40de-94f4-5430ad14b32f\">\n",
              "  <button class=\"colab-df-quickchart\" onclick=\"quickchart('df-5a5db3a7-0452-40de-94f4-5430ad14b32f')\"\n",
              "            title=\"Suggest charts\"\n",
              "            style=\"display:none;\">\n",
              "\n",
              "<svg xmlns=\"http://www.w3.org/2000/svg\" height=\"24px\"viewBox=\"0 0 24 24\"\n",
              "     width=\"24px\">\n",
              "    <g>\n",
              "        <path d=\"M19 3H5c-1.1 0-2 .9-2 2v14c0 1.1.9 2 2 2h14c1.1 0 2-.9 2-2V5c0-1.1-.9-2-2-2zM9 17H7v-7h2v7zm4 0h-2V7h2v10zm4 0h-2v-4h2v4z\"/>\n",
              "    </g>\n",
              "</svg>\n",
              "  </button>\n",
              "\n",
              "<style>\n",
              "  .colab-df-quickchart {\n",
              "      --bg-color: #E8F0FE;\n",
              "      --fill-color: #1967D2;\n",
              "      --hover-bg-color: #E2EBFA;\n",
              "      --hover-fill-color: #174EA6;\n",
              "      --disabled-fill-color: #AAA;\n",
              "      --disabled-bg-color: #DDD;\n",
              "  }\n",
              "\n",
              "  [theme=dark] .colab-df-quickchart {\n",
              "      --bg-color: #3B4455;\n",
              "      --fill-color: #D2E3FC;\n",
              "      --hover-bg-color: #434B5C;\n",
              "      --hover-fill-color: #FFFFFF;\n",
              "      --disabled-bg-color: #3B4455;\n",
              "      --disabled-fill-color: #666;\n",
              "  }\n",
              "\n",
              "  .colab-df-quickchart {\n",
              "    background-color: var(--bg-color);\n",
              "    border: none;\n",
              "    border-radius: 50%;\n",
              "    cursor: pointer;\n",
              "    display: none;\n",
              "    fill: var(--fill-color);\n",
              "    height: 32px;\n",
              "    padding: 0;\n",
              "    width: 32px;\n",
              "  }\n",
              "\n",
              "  .colab-df-quickchart:hover {\n",
              "    background-color: var(--hover-bg-color);\n",
              "    box-shadow: 0 1px 2px rgba(60, 64, 67, 0.3), 0 1px 3px 1px rgba(60, 64, 67, 0.15);\n",
              "    fill: var(--button-hover-fill-color);\n",
              "  }\n",
              "\n",
              "  .colab-df-quickchart-complete:disabled,\n",
              "  .colab-df-quickchart-complete:disabled:hover {\n",
              "    background-color: var(--disabled-bg-color);\n",
              "    fill: var(--disabled-fill-color);\n",
              "    box-shadow: none;\n",
              "  }\n",
              "\n",
              "  .colab-df-spinner {\n",
              "    border: 2px solid var(--fill-color);\n",
              "    border-color: transparent;\n",
              "    border-bottom-color: var(--fill-color);\n",
              "    animation:\n",
              "      spin 1s steps(1) infinite;\n",
              "  }\n",
              "\n",
              "  @keyframes spin {\n",
              "    0% {\n",
              "      border-color: transparent;\n",
              "      border-bottom-color: var(--fill-color);\n",
              "      border-left-color: var(--fill-color);\n",
              "    }\n",
              "    20% {\n",
              "      border-color: transparent;\n",
              "      border-left-color: var(--fill-color);\n",
              "      border-top-color: var(--fill-color);\n",
              "    }\n",
              "    30% {\n",
              "      border-color: transparent;\n",
              "      border-left-color: var(--fill-color);\n",
              "      border-top-color: var(--fill-color);\n",
              "      border-right-color: var(--fill-color);\n",
              "    }\n",
              "    40% {\n",
              "      border-color: transparent;\n",
              "      border-right-color: var(--fill-color);\n",
              "      border-top-color: var(--fill-color);\n",
              "    }\n",
              "    60% {\n",
              "      border-color: transparent;\n",
              "      border-right-color: var(--fill-color);\n",
              "    }\n",
              "    80% {\n",
              "      border-color: transparent;\n",
              "      border-right-color: var(--fill-color);\n",
              "      border-bottom-color: var(--fill-color);\n",
              "    }\n",
              "    90% {\n",
              "      border-color: transparent;\n",
              "      border-bottom-color: var(--fill-color);\n",
              "    }\n",
              "  }\n",
              "</style>\n",
              "\n",
              "  <script>\n",
              "    async function quickchart(key) {\n",
              "      const quickchartButtonEl =\n",
              "        document.querySelector('#' + key + ' button');\n",
              "      quickchartButtonEl.disabled = true;  // To prevent multiple clicks.\n",
              "      quickchartButtonEl.classList.add('colab-df-spinner');\n",
              "      try {\n",
              "        const charts = await google.colab.kernel.invokeFunction(\n",
              "            'suggestCharts', [key], {});\n",
              "      } catch (error) {\n",
              "        console.error('Error during call to suggestCharts:', error);\n",
              "      }\n",
              "      quickchartButtonEl.classList.remove('colab-df-spinner');\n",
              "      quickchartButtonEl.classList.add('colab-df-quickchart-complete');\n",
              "    }\n",
              "    (() => {\n",
              "      let quickchartButtonEl =\n",
              "        document.querySelector('#df-5a5db3a7-0452-40de-94f4-5430ad14b32f button');\n",
              "      quickchartButtonEl.style.display =\n",
              "        google.colab.kernel.accessAllowed ? 'block' : 'none';\n",
              "    })();\n",
              "  </script>\n",
              "</div>\n",
              "    </div>\n",
              "  </div>\n"
            ]
          },
          "metadata": {},
          "execution_count": 310
        }
      ],
      "source": [
        "df = pd.read_csv(\"/content/drive/MyDrive/Colab Notebooks/HSE_AOT/data/ru_simlex965_tagged.tsv\", sep='\\t')\n",
        "\n",
        "df"
      ],
      "metadata": {
        "pycharm": {
          "name": "#%%\n"
        },
        "colab": {
          "base_uri": "https://localhost:8080/",
          "height": 424
        },
        "id": "tL3EwQ0RoocC",
        "outputId": "62e93907-24b5-4450-93b8-e189721d17ac"
      }
    },
    {
      "cell_type": "code",
      "source": [
        "df.dtypes"
      ],
      "metadata": {
        "colab": {
          "base_uri": "https://localhost:8080/"
        },
        "id": "hPKxvqjyMMC1",
        "outputId": "0bdb727e-b254-4e56-c29a-7cd79c86cb19"
      },
      "execution_count": 311,
      "outputs": [
        {
          "output_type": "execute_result",
          "data": {
            "text/plain": [
              "# Word1           object\n",
              "Word2             object\n",
              "Average Score    float64\n",
              "dtype: object"
            ]
          },
          "metadata": {},
          "execution_count": 311
        }
      ]
    },
    {
      "cell_type": "code",
      "source": [
        "df[\"Average Score\"].min()"
      ],
      "metadata": {
        "colab": {
          "base_uri": "https://localhost:8080/"
        },
        "id": "MfByV8o3MPCH",
        "outputId": "b3a7088c-751d-439e-e174-b2512fc37da3"
      },
      "execution_count": 312,
      "outputs": [
        {
          "output_type": "execute_result",
          "data": {
            "text/plain": [
              "0.0"
            ]
          },
          "metadata": {},
          "execution_count": 312
        }
      ]
    },
    {
      "cell_type": "code",
      "source": [
        "df[\"Average Score\"].max()"
      ],
      "metadata": {
        "colab": {
          "base_uri": "https://localhost:8080/"
        },
        "id": "c32s7zAoMuq1",
        "outputId": "1ecce41e-758d-4d0e-f0a6-4379a7a160fe"
      },
      "execution_count": 313,
      "outputs": [
        {
          "output_type": "execute_result",
          "data": {
            "text/plain": [
              "10.0"
            ]
          },
          "metadata": {},
          "execution_count": 313
        }
      ]
    },
    {
      "cell_type": "code",
      "source": [
        "df[\"Average Score\"] = df[\"Average Score\"] / df[\"Average Score\"].max()\n",
        "\n",
        "df"
      ],
      "metadata": {
        "colab": {
          "base_uri": "https://localhost:8080/",
          "height": 424
        },
        "id": "mFuWAduwIPm4",
        "outputId": "03440df7-9377-4bcd-8bb6-6251f569ac48"
      },
      "execution_count": 314,
      "outputs": [
        {
          "output_type": "execute_result",
          "data": {
            "text/plain": [
              "             # Word1            Word2  Average Score\n",
              "0        авария_NOUN    бедствие_NOUN          0.615\n",
              "1        август_NOUN       месяц_NOUN          0.285\n",
              "2       авиация_NOUN       полет_NOUN          0.677\n",
              "3    автомобиль_NOUN       гудок_NOUN          0.185\n",
              "4    автомобиль_NOUN  автострада_NOUN          0.123\n",
              "..               ...              ...            ...\n",
              "960      яблоко_NOUN      солнце_NOUN          0.015\n",
              "961        ядро_NOUN       пушка_NOUN          0.277\n",
              "962        язык_NOUN       горло_NOUN          0.138\n",
              "963         ярд_NOUN        дюйм_NOUN          0.262\n",
              "964     яростный_ADJ         злой_ADJ          0.746\n",
              "\n",
              "[965 rows x 3 columns]"
            ],
            "text/html": [
              "\n",
              "  <div id=\"df-8f9d1b14-27c5-4dc8-a345-26a9369b59c4\" class=\"colab-df-container\">\n",
              "    <div>\n",
              "<style scoped>\n",
              "    .dataframe tbody tr th:only-of-type {\n",
              "        vertical-align: middle;\n",
              "    }\n",
              "\n",
              "    .dataframe tbody tr th {\n",
              "        vertical-align: top;\n",
              "    }\n",
              "\n",
              "    .dataframe thead th {\n",
              "        text-align: right;\n",
              "    }\n",
              "</style>\n",
              "<table border=\"1\" class=\"dataframe\">\n",
              "  <thead>\n",
              "    <tr style=\"text-align: right;\">\n",
              "      <th></th>\n",
              "      <th># Word1</th>\n",
              "      <th>Word2</th>\n",
              "      <th>Average Score</th>\n",
              "    </tr>\n",
              "  </thead>\n",
              "  <tbody>\n",
              "    <tr>\n",
              "      <th>0</th>\n",
              "      <td>авария_NOUN</td>\n",
              "      <td>бедствие_NOUN</td>\n",
              "      <td>0.615</td>\n",
              "    </tr>\n",
              "    <tr>\n",
              "      <th>1</th>\n",
              "      <td>август_NOUN</td>\n",
              "      <td>месяц_NOUN</td>\n",
              "      <td>0.285</td>\n",
              "    </tr>\n",
              "    <tr>\n",
              "      <th>2</th>\n",
              "      <td>авиация_NOUN</td>\n",
              "      <td>полет_NOUN</td>\n",
              "      <td>0.677</td>\n",
              "    </tr>\n",
              "    <tr>\n",
              "      <th>3</th>\n",
              "      <td>автомобиль_NOUN</td>\n",
              "      <td>гудок_NOUN</td>\n",
              "      <td>0.185</td>\n",
              "    </tr>\n",
              "    <tr>\n",
              "      <th>4</th>\n",
              "      <td>автомобиль_NOUN</td>\n",
              "      <td>автострада_NOUN</td>\n",
              "      <td>0.123</td>\n",
              "    </tr>\n",
              "    <tr>\n",
              "      <th>...</th>\n",
              "      <td>...</td>\n",
              "      <td>...</td>\n",
              "      <td>...</td>\n",
              "    </tr>\n",
              "    <tr>\n",
              "      <th>960</th>\n",
              "      <td>яблоко_NOUN</td>\n",
              "      <td>солнце_NOUN</td>\n",
              "      <td>0.015</td>\n",
              "    </tr>\n",
              "    <tr>\n",
              "      <th>961</th>\n",
              "      <td>ядро_NOUN</td>\n",
              "      <td>пушка_NOUN</td>\n",
              "      <td>0.277</td>\n",
              "    </tr>\n",
              "    <tr>\n",
              "      <th>962</th>\n",
              "      <td>язык_NOUN</td>\n",
              "      <td>горло_NOUN</td>\n",
              "      <td>0.138</td>\n",
              "    </tr>\n",
              "    <tr>\n",
              "      <th>963</th>\n",
              "      <td>ярд_NOUN</td>\n",
              "      <td>дюйм_NOUN</td>\n",
              "      <td>0.262</td>\n",
              "    </tr>\n",
              "    <tr>\n",
              "      <th>964</th>\n",
              "      <td>яростный_ADJ</td>\n",
              "      <td>злой_ADJ</td>\n",
              "      <td>0.746</td>\n",
              "    </tr>\n",
              "  </tbody>\n",
              "</table>\n",
              "<p>965 rows × 3 columns</p>\n",
              "</div>\n",
              "    <div class=\"colab-df-buttons\">\n",
              "\n",
              "  <div class=\"colab-df-container\">\n",
              "    <button class=\"colab-df-convert\" onclick=\"convertToInteractive('df-8f9d1b14-27c5-4dc8-a345-26a9369b59c4')\"\n",
              "            title=\"Convert this dataframe to an interactive table.\"\n",
              "            style=\"display:none;\">\n",
              "\n",
              "  <svg xmlns=\"http://www.w3.org/2000/svg\" height=\"24px\" viewBox=\"0 -960 960 960\">\n",
              "    <path d=\"M120-120v-720h720v720H120Zm60-500h600v-160H180v160Zm220 220h160v-160H400v160Zm0 220h160v-160H400v160ZM180-400h160v-160H180v160Zm440 0h160v-160H620v160ZM180-180h160v-160H180v160Zm440 0h160v-160H620v160Z\"/>\n",
              "  </svg>\n",
              "    </button>\n",
              "\n",
              "  <style>\n",
              "    .colab-df-container {\n",
              "      display:flex;\n",
              "      gap: 12px;\n",
              "    }\n",
              "\n",
              "    .colab-df-convert {\n",
              "      background-color: #E8F0FE;\n",
              "      border: none;\n",
              "      border-radius: 50%;\n",
              "      cursor: pointer;\n",
              "      display: none;\n",
              "      fill: #1967D2;\n",
              "      height: 32px;\n",
              "      padding: 0 0 0 0;\n",
              "      width: 32px;\n",
              "    }\n",
              "\n",
              "    .colab-df-convert:hover {\n",
              "      background-color: #E2EBFA;\n",
              "      box-shadow: 0px 1px 2px rgba(60, 64, 67, 0.3), 0px 1px 3px 1px rgba(60, 64, 67, 0.15);\n",
              "      fill: #174EA6;\n",
              "    }\n",
              "\n",
              "    .colab-df-buttons div {\n",
              "      margin-bottom: 4px;\n",
              "    }\n",
              "\n",
              "    [theme=dark] .colab-df-convert {\n",
              "      background-color: #3B4455;\n",
              "      fill: #D2E3FC;\n",
              "    }\n",
              "\n",
              "    [theme=dark] .colab-df-convert:hover {\n",
              "      background-color: #434B5C;\n",
              "      box-shadow: 0px 1px 3px 1px rgba(0, 0, 0, 0.15);\n",
              "      filter: drop-shadow(0px 1px 2px rgba(0, 0, 0, 0.3));\n",
              "      fill: #FFFFFF;\n",
              "    }\n",
              "  </style>\n",
              "\n",
              "    <script>\n",
              "      const buttonEl =\n",
              "        document.querySelector('#df-8f9d1b14-27c5-4dc8-a345-26a9369b59c4 button.colab-df-convert');\n",
              "      buttonEl.style.display =\n",
              "        google.colab.kernel.accessAllowed ? 'block' : 'none';\n",
              "\n",
              "      async function convertToInteractive(key) {\n",
              "        const element = document.querySelector('#df-8f9d1b14-27c5-4dc8-a345-26a9369b59c4');\n",
              "        const dataTable =\n",
              "          await google.colab.kernel.invokeFunction('convertToInteractive',\n",
              "                                                    [key], {});\n",
              "        if (!dataTable) return;\n",
              "\n",
              "        const docLinkHtml = 'Like what you see? Visit the ' +\n",
              "          '<a target=\"_blank\" href=https://colab.research.google.com/notebooks/data_table.ipynb>data table notebook</a>'\n",
              "          + ' to learn more about interactive tables.';\n",
              "        element.innerHTML = '';\n",
              "        dataTable['output_type'] = 'display_data';\n",
              "        await google.colab.output.renderOutput(dataTable, element);\n",
              "        const docLink = document.createElement('div');\n",
              "        docLink.innerHTML = docLinkHtml;\n",
              "        element.appendChild(docLink);\n",
              "      }\n",
              "    </script>\n",
              "  </div>\n",
              "\n",
              "\n",
              "<div id=\"df-94c473b4-4122-4a6f-b616-fedb3c14b3f7\">\n",
              "  <button class=\"colab-df-quickchart\" onclick=\"quickchart('df-94c473b4-4122-4a6f-b616-fedb3c14b3f7')\"\n",
              "            title=\"Suggest charts\"\n",
              "            style=\"display:none;\">\n",
              "\n",
              "<svg xmlns=\"http://www.w3.org/2000/svg\" height=\"24px\"viewBox=\"0 0 24 24\"\n",
              "     width=\"24px\">\n",
              "    <g>\n",
              "        <path d=\"M19 3H5c-1.1 0-2 .9-2 2v14c0 1.1.9 2 2 2h14c1.1 0 2-.9 2-2V5c0-1.1-.9-2-2-2zM9 17H7v-7h2v7zm4 0h-2V7h2v10zm4 0h-2v-4h2v4z\"/>\n",
              "    </g>\n",
              "</svg>\n",
              "  </button>\n",
              "\n",
              "<style>\n",
              "  .colab-df-quickchart {\n",
              "      --bg-color: #E8F0FE;\n",
              "      --fill-color: #1967D2;\n",
              "      --hover-bg-color: #E2EBFA;\n",
              "      --hover-fill-color: #174EA6;\n",
              "      --disabled-fill-color: #AAA;\n",
              "      --disabled-bg-color: #DDD;\n",
              "  }\n",
              "\n",
              "  [theme=dark] .colab-df-quickchart {\n",
              "      --bg-color: #3B4455;\n",
              "      --fill-color: #D2E3FC;\n",
              "      --hover-bg-color: #434B5C;\n",
              "      --hover-fill-color: #FFFFFF;\n",
              "      --disabled-bg-color: #3B4455;\n",
              "      --disabled-fill-color: #666;\n",
              "  }\n",
              "\n",
              "  .colab-df-quickchart {\n",
              "    background-color: var(--bg-color);\n",
              "    border: none;\n",
              "    border-radius: 50%;\n",
              "    cursor: pointer;\n",
              "    display: none;\n",
              "    fill: var(--fill-color);\n",
              "    height: 32px;\n",
              "    padding: 0;\n",
              "    width: 32px;\n",
              "  }\n",
              "\n",
              "  .colab-df-quickchart:hover {\n",
              "    background-color: var(--hover-bg-color);\n",
              "    box-shadow: 0 1px 2px rgba(60, 64, 67, 0.3), 0 1px 3px 1px rgba(60, 64, 67, 0.15);\n",
              "    fill: var(--button-hover-fill-color);\n",
              "  }\n",
              "\n",
              "  .colab-df-quickchart-complete:disabled,\n",
              "  .colab-df-quickchart-complete:disabled:hover {\n",
              "    background-color: var(--disabled-bg-color);\n",
              "    fill: var(--disabled-fill-color);\n",
              "    box-shadow: none;\n",
              "  }\n",
              "\n",
              "  .colab-df-spinner {\n",
              "    border: 2px solid var(--fill-color);\n",
              "    border-color: transparent;\n",
              "    border-bottom-color: var(--fill-color);\n",
              "    animation:\n",
              "      spin 1s steps(1) infinite;\n",
              "  }\n",
              "\n",
              "  @keyframes spin {\n",
              "    0% {\n",
              "      border-color: transparent;\n",
              "      border-bottom-color: var(--fill-color);\n",
              "      border-left-color: var(--fill-color);\n",
              "    }\n",
              "    20% {\n",
              "      border-color: transparent;\n",
              "      border-left-color: var(--fill-color);\n",
              "      border-top-color: var(--fill-color);\n",
              "    }\n",
              "    30% {\n",
              "      border-color: transparent;\n",
              "      border-left-color: var(--fill-color);\n",
              "      border-top-color: var(--fill-color);\n",
              "      border-right-color: var(--fill-color);\n",
              "    }\n",
              "    40% {\n",
              "      border-color: transparent;\n",
              "      border-right-color: var(--fill-color);\n",
              "      border-top-color: var(--fill-color);\n",
              "    }\n",
              "    60% {\n",
              "      border-color: transparent;\n",
              "      border-right-color: var(--fill-color);\n",
              "    }\n",
              "    80% {\n",
              "      border-color: transparent;\n",
              "      border-right-color: var(--fill-color);\n",
              "      border-bottom-color: var(--fill-color);\n",
              "    }\n",
              "    90% {\n",
              "      border-color: transparent;\n",
              "      border-bottom-color: var(--fill-color);\n",
              "    }\n",
              "  }\n",
              "</style>\n",
              "\n",
              "  <script>\n",
              "    async function quickchart(key) {\n",
              "      const quickchartButtonEl =\n",
              "        document.querySelector('#' + key + ' button');\n",
              "      quickchartButtonEl.disabled = true;  // To prevent multiple clicks.\n",
              "      quickchartButtonEl.classList.add('colab-df-spinner');\n",
              "      try {\n",
              "        const charts = await google.colab.kernel.invokeFunction(\n",
              "            'suggestCharts', [key], {});\n",
              "      } catch (error) {\n",
              "        console.error('Error during call to suggestCharts:', error);\n",
              "      }\n",
              "      quickchartButtonEl.classList.remove('colab-df-spinner');\n",
              "      quickchartButtonEl.classList.add('colab-df-quickchart-complete');\n",
              "    }\n",
              "    (() => {\n",
              "      let quickchartButtonEl =\n",
              "        document.querySelector('#df-94c473b4-4122-4a6f-b616-fedb3c14b3f7 button');\n",
              "      quickchartButtonEl.style.display =\n",
              "        google.colab.kernel.accessAllowed ? 'block' : 'none';\n",
              "    })();\n",
              "  </script>\n",
              "</div>\n",
              "    </div>\n",
              "  </div>\n"
            ]
          },
          "metadata": {},
          "execution_count": 314
        }
      ]
    },
    {
      "cell_type": "code",
      "source": [
        "df.rename(columns={\"# Word1\": \"Word1\"},\n",
        "          inplace=True)\n",
        "\n",
        "df.columns"
      ],
      "metadata": {
        "colab": {
          "base_uri": "https://localhost:8080/"
        },
        "id": "b2mxX_5II4eT",
        "outputId": "5ec4a331-846c-48b5-a6c7-5335625c9802"
      },
      "execution_count": 315,
      "outputs": [
        {
          "output_type": "execute_result",
          "data": {
            "text/plain": [
              "Index(['Word1', 'Word2', 'Average Score'], dtype='object')"
            ]
          },
          "metadata": {},
          "execution_count": 315
        }
      ]
    },
    {
      "cell_type": "code",
      "source": [
        "df[\"lemma1\"] = df[\"Word1\"].apply(lambda x: x.split('_')[0])\n",
        "df[\"lemma2\"] = df[\"Word2\"].apply(lambda x: x.split('_')[0])\n",
        "\n",
        "df"
      ],
      "metadata": {
        "colab": {
          "base_uri": "https://localhost:8080/",
          "height": 424
        },
        "id": "QXE_U4m-NvI4",
        "outputId": "f7c02a52-1bb8-45fe-c930-8679c15e44a5"
      },
      "execution_count": 316,
      "outputs": [
        {
          "output_type": "execute_result",
          "data": {
            "text/plain": [
              "               Word1            Word2  Average Score      lemma1      lemma2\n",
              "0        авария_NOUN    бедствие_NOUN          0.615      авария    бедствие\n",
              "1        август_NOUN       месяц_NOUN          0.285      август       месяц\n",
              "2       авиация_NOUN       полет_NOUN          0.677     авиация       полет\n",
              "3    автомобиль_NOUN       гудок_NOUN          0.185  автомобиль       гудок\n",
              "4    автомобиль_NOUN  автострада_NOUN          0.123  автомобиль  автострада\n",
              "..               ...              ...            ...         ...         ...\n",
              "960      яблоко_NOUN      солнце_NOUN          0.015      яблоко      солнце\n",
              "961        ядро_NOUN       пушка_NOUN          0.277        ядро       пушка\n",
              "962        язык_NOUN       горло_NOUN          0.138        язык       горло\n",
              "963         ярд_NOUN        дюйм_NOUN          0.262         ярд        дюйм\n",
              "964     яростный_ADJ         злой_ADJ          0.746    яростный        злой\n",
              "\n",
              "[965 rows x 5 columns]"
            ],
            "text/html": [
              "\n",
              "  <div id=\"df-b581bb0b-f571-43d9-a15f-20f6acc67991\" class=\"colab-df-container\">\n",
              "    <div>\n",
              "<style scoped>\n",
              "    .dataframe tbody tr th:only-of-type {\n",
              "        vertical-align: middle;\n",
              "    }\n",
              "\n",
              "    .dataframe tbody tr th {\n",
              "        vertical-align: top;\n",
              "    }\n",
              "\n",
              "    .dataframe thead th {\n",
              "        text-align: right;\n",
              "    }\n",
              "</style>\n",
              "<table border=\"1\" class=\"dataframe\">\n",
              "  <thead>\n",
              "    <tr style=\"text-align: right;\">\n",
              "      <th></th>\n",
              "      <th>Word1</th>\n",
              "      <th>Word2</th>\n",
              "      <th>Average Score</th>\n",
              "      <th>lemma1</th>\n",
              "      <th>lemma2</th>\n",
              "    </tr>\n",
              "  </thead>\n",
              "  <tbody>\n",
              "    <tr>\n",
              "      <th>0</th>\n",
              "      <td>авария_NOUN</td>\n",
              "      <td>бедствие_NOUN</td>\n",
              "      <td>0.615</td>\n",
              "      <td>авария</td>\n",
              "      <td>бедствие</td>\n",
              "    </tr>\n",
              "    <tr>\n",
              "      <th>1</th>\n",
              "      <td>август_NOUN</td>\n",
              "      <td>месяц_NOUN</td>\n",
              "      <td>0.285</td>\n",
              "      <td>август</td>\n",
              "      <td>месяц</td>\n",
              "    </tr>\n",
              "    <tr>\n",
              "      <th>2</th>\n",
              "      <td>авиация_NOUN</td>\n",
              "      <td>полет_NOUN</td>\n",
              "      <td>0.677</td>\n",
              "      <td>авиация</td>\n",
              "      <td>полет</td>\n",
              "    </tr>\n",
              "    <tr>\n",
              "      <th>3</th>\n",
              "      <td>автомобиль_NOUN</td>\n",
              "      <td>гудок_NOUN</td>\n",
              "      <td>0.185</td>\n",
              "      <td>автомобиль</td>\n",
              "      <td>гудок</td>\n",
              "    </tr>\n",
              "    <tr>\n",
              "      <th>4</th>\n",
              "      <td>автомобиль_NOUN</td>\n",
              "      <td>автострада_NOUN</td>\n",
              "      <td>0.123</td>\n",
              "      <td>автомобиль</td>\n",
              "      <td>автострада</td>\n",
              "    </tr>\n",
              "    <tr>\n",
              "      <th>...</th>\n",
              "      <td>...</td>\n",
              "      <td>...</td>\n",
              "      <td>...</td>\n",
              "      <td>...</td>\n",
              "      <td>...</td>\n",
              "    </tr>\n",
              "    <tr>\n",
              "      <th>960</th>\n",
              "      <td>яблоко_NOUN</td>\n",
              "      <td>солнце_NOUN</td>\n",
              "      <td>0.015</td>\n",
              "      <td>яблоко</td>\n",
              "      <td>солнце</td>\n",
              "    </tr>\n",
              "    <tr>\n",
              "      <th>961</th>\n",
              "      <td>ядро_NOUN</td>\n",
              "      <td>пушка_NOUN</td>\n",
              "      <td>0.277</td>\n",
              "      <td>ядро</td>\n",
              "      <td>пушка</td>\n",
              "    </tr>\n",
              "    <tr>\n",
              "      <th>962</th>\n",
              "      <td>язык_NOUN</td>\n",
              "      <td>горло_NOUN</td>\n",
              "      <td>0.138</td>\n",
              "      <td>язык</td>\n",
              "      <td>горло</td>\n",
              "    </tr>\n",
              "    <tr>\n",
              "      <th>963</th>\n",
              "      <td>ярд_NOUN</td>\n",
              "      <td>дюйм_NOUN</td>\n",
              "      <td>0.262</td>\n",
              "      <td>ярд</td>\n",
              "      <td>дюйм</td>\n",
              "    </tr>\n",
              "    <tr>\n",
              "      <th>964</th>\n",
              "      <td>яростный_ADJ</td>\n",
              "      <td>злой_ADJ</td>\n",
              "      <td>0.746</td>\n",
              "      <td>яростный</td>\n",
              "      <td>злой</td>\n",
              "    </tr>\n",
              "  </tbody>\n",
              "</table>\n",
              "<p>965 rows × 5 columns</p>\n",
              "</div>\n",
              "    <div class=\"colab-df-buttons\">\n",
              "\n",
              "  <div class=\"colab-df-container\">\n",
              "    <button class=\"colab-df-convert\" onclick=\"convertToInteractive('df-b581bb0b-f571-43d9-a15f-20f6acc67991')\"\n",
              "            title=\"Convert this dataframe to an interactive table.\"\n",
              "            style=\"display:none;\">\n",
              "\n",
              "  <svg xmlns=\"http://www.w3.org/2000/svg\" height=\"24px\" viewBox=\"0 -960 960 960\">\n",
              "    <path d=\"M120-120v-720h720v720H120Zm60-500h600v-160H180v160Zm220 220h160v-160H400v160Zm0 220h160v-160H400v160ZM180-400h160v-160H180v160Zm440 0h160v-160H620v160ZM180-180h160v-160H180v160Zm440 0h160v-160H620v160Z\"/>\n",
              "  </svg>\n",
              "    </button>\n",
              "\n",
              "  <style>\n",
              "    .colab-df-container {\n",
              "      display:flex;\n",
              "      gap: 12px;\n",
              "    }\n",
              "\n",
              "    .colab-df-convert {\n",
              "      background-color: #E8F0FE;\n",
              "      border: none;\n",
              "      border-radius: 50%;\n",
              "      cursor: pointer;\n",
              "      display: none;\n",
              "      fill: #1967D2;\n",
              "      height: 32px;\n",
              "      padding: 0 0 0 0;\n",
              "      width: 32px;\n",
              "    }\n",
              "\n",
              "    .colab-df-convert:hover {\n",
              "      background-color: #E2EBFA;\n",
              "      box-shadow: 0px 1px 2px rgba(60, 64, 67, 0.3), 0px 1px 3px 1px rgba(60, 64, 67, 0.15);\n",
              "      fill: #174EA6;\n",
              "    }\n",
              "\n",
              "    .colab-df-buttons div {\n",
              "      margin-bottom: 4px;\n",
              "    }\n",
              "\n",
              "    [theme=dark] .colab-df-convert {\n",
              "      background-color: #3B4455;\n",
              "      fill: #D2E3FC;\n",
              "    }\n",
              "\n",
              "    [theme=dark] .colab-df-convert:hover {\n",
              "      background-color: #434B5C;\n",
              "      box-shadow: 0px 1px 3px 1px rgba(0, 0, 0, 0.15);\n",
              "      filter: drop-shadow(0px 1px 2px rgba(0, 0, 0, 0.3));\n",
              "      fill: #FFFFFF;\n",
              "    }\n",
              "  </style>\n",
              "\n",
              "    <script>\n",
              "      const buttonEl =\n",
              "        document.querySelector('#df-b581bb0b-f571-43d9-a15f-20f6acc67991 button.colab-df-convert');\n",
              "      buttonEl.style.display =\n",
              "        google.colab.kernel.accessAllowed ? 'block' : 'none';\n",
              "\n",
              "      async function convertToInteractive(key) {\n",
              "        const element = document.querySelector('#df-b581bb0b-f571-43d9-a15f-20f6acc67991');\n",
              "        const dataTable =\n",
              "          await google.colab.kernel.invokeFunction('convertToInteractive',\n",
              "                                                    [key], {});\n",
              "        if (!dataTable) return;\n",
              "\n",
              "        const docLinkHtml = 'Like what you see? Visit the ' +\n",
              "          '<a target=\"_blank\" href=https://colab.research.google.com/notebooks/data_table.ipynb>data table notebook</a>'\n",
              "          + ' to learn more about interactive tables.';\n",
              "        element.innerHTML = '';\n",
              "        dataTable['output_type'] = 'display_data';\n",
              "        await google.colab.output.renderOutput(dataTable, element);\n",
              "        const docLink = document.createElement('div');\n",
              "        docLink.innerHTML = docLinkHtml;\n",
              "        element.appendChild(docLink);\n",
              "      }\n",
              "    </script>\n",
              "  </div>\n",
              "\n",
              "\n",
              "<div id=\"df-bbb9e6b0-4b0a-4f36-805f-1ed5f8913e44\">\n",
              "  <button class=\"colab-df-quickchart\" onclick=\"quickchart('df-bbb9e6b0-4b0a-4f36-805f-1ed5f8913e44')\"\n",
              "            title=\"Suggest charts\"\n",
              "            style=\"display:none;\">\n",
              "\n",
              "<svg xmlns=\"http://www.w3.org/2000/svg\" height=\"24px\"viewBox=\"0 0 24 24\"\n",
              "     width=\"24px\">\n",
              "    <g>\n",
              "        <path d=\"M19 3H5c-1.1 0-2 .9-2 2v14c0 1.1.9 2 2 2h14c1.1 0 2-.9 2-2V5c0-1.1-.9-2-2-2zM9 17H7v-7h2v7zm4 0h-2V7h2v10zm4 0h-2v-4h2v4z\"/>\n",
              "    </g>\n",
              "</svg>\n",
              "  </button>\n",
              "\n",
              "<style>\n",
              "  .colab-df-quickchart {\n",
              "      --bg-color: #E8F0FE;\n",
              "      --fill-color: #1967D2;\n",
              "      --hover-bg-color: #E2EBFA;\n",
              "      --hover-fill-color: #174EA6;\n",
              "      --disabled-fill-color: #AAA;\n",
              "      --disabled-bg-color: #DDD;\n",
              "  }\n",
              "\n",
              "  [theme=dark] .colab-df-quickchart {\n",
              "      --bg-color: #3B4455;\n",
              "      --fill-color: #D2E3FC;\n",
              "      --hover-bg-color: #434B5C;\n",
              "      --hover-fill-color: #FFFFFF;\n",
              "      --disabled-bg-color: #3B4455;\n",
              "      --disabled-fill-color: #666;\n",
              "  }\n",
              "\n",
              "  .colab-df-quickchart {\n",
              "    background-color: var(--bg-color);\n",
              "    border: none;\n",
              "    border-radius: 50%;\n",
              "    cursor: pointer;\n",
              "    display: none;\n",
              "    fill: var(--fill-color);\n",
              "    height: 32px;\n",
              "    padding: 0;\n",
              "    width: 32px;\n",
              "  }\n",
              "\n",
              "  .colab-df-quickchart:hover {\n",
              "    background-color: var(--hover-bg-color);\n",
              "    box-shadow: 0 1px 2px rgba(60, 64, 67, 0.3), 0 1px 3px 1px rgba(60, 64, 67, 0.15);\n",
              "    fill: var(--button-hover-fill-color);\n",
              "  }\n",
              "\n",
              "  .colab-df-quickchart-complete:disabled,\n",
              "  .colab-df-quickchart-complete:disabled:hover {\n",
              "    background-color: var(--disabled-bg-color);\n",
              "    fill: var(--disabled-fill-color);\n",
              "    box-shadow: none;\n",
              "  }\n",
              "\n",
              "  .colab-df-spinner {\n",
              "    border: 2px solid var(--fill-color);\n",
              "    border-color: transparent;\n",
              "    border-bottom-color: var(--fill-color);\n",
              "    animation:\n",
              "      spin 1s steps(1) infinite;\n",
              "  }\n",
              "\n",
              "  @keyframes spin {\n",
              "    0% {\n",
              "      border-color: transparent;\n",
              "      border-bottom-color: var(--fill-color);\n",
              "      border-left-color: var(--fill-color);\n",
              "    }\n",
              "    20% {\n",
              "      border-color: transparent;\n",
              "      border-left-color: var(--fill-color);\n",
              "      border-top-color: var(--fill-color);\n",
              "    }\n",
              "    30% {\n",
              "      border-color: transparent;\n",
              "      border-left-color: var(--fill-color);\n",
              "      border-top-color: var(--fill-color);\n",
              "      border-right-color: var(--fill-color);\n",
              "    }\n",
              "    40% {\n",
              "      border-color: transparent;\n",
              "      border-right-color: var(--fill-color);\n",
              "      border-top-color: var(--fill-color);\n",
              "    }\n",
              "    60% {\n",
              "      border-color: transparent;\n",
              "      border-right-color: var(--fill-color);\n",
              "    }\n",
              "    80% {\n",
              "      border-color: transparent;\n",
              "      border-right-color: var(--fill-color);\n",
              "      border-bottom-color: var(--fill-color);\n",
              "    }\n",
              "    90% {\n",
              "      border-color: transparent;\n",
              "      border-bottom-color: var(--fill-color);\n",
              "    }\n",
              "  }\n",
              "</style>\n",
              "\n",
              "  <script>\n",
              "    async function quickchart(key) {\n",
              "      const quickchartButtonEl =\n",
              "        document.querySelector('#' + key + ' button');\n",
              "      quickchartButtonEl.disabled = true;  // To prevent multiple clicks.\n",
              "      quickchartButtonEl.classList.add('colab-df-spinner');\n",
              "      try {\n",
              "        const charts = await google.colab.kernel.invokeFunction(\n",
              "            'suggestCharts', [key], {});\n",
              "      } catch (error) {\n",
              "        console.error('Error during call to suggestCharts:', error);\n",
              "      }\n",
              "      quickchartButtonEl.classList.remove('colab-df-spinner');\n",
              "      quickchartButtonEl.classList.add('colab-df-quickchart-complete');\n",
              "    }\n",
              "    (() => {\n",
              "      let quickchartButtonEl =\n",
              "        document.querySelector('#df-bbb9e6b0-4b0a-4f36-805f-1ed5f8913e44 button');\n",
              "      quickchartButtonEl.style.display =\n",
              "        google.colab.kernel.accessAllowed ? 'block' : 'none';\n",
              "    })();\n",
              "  </script>\n",
              "</div>\n",
              "    </div>\n",
              "  </div>\n"
            ]
          },
          "metadata": {},
          "execution_count": 316
        }
      ]
    },
    {
      "cell_type": "code",
      "source": [
        "df.isna().any()"
      ],
      "metadata": {
        "colab": {
          "base_uri": "https://localhost:8080/"
        },
        "id": "JU2mTBhUOKcY",
        "outputId": "b098f5f6-17fc-4ed5-fc08-07e94f048d50"
      },
      "execution_count": 317,
      "outputs": [
        {
          "output_type": "execute_result",
          "data": {
            "text/plain": [
              "Word1            False\n",
              "Word2            False\n",
              "Average Score    False\n",
              "lemma1           False\n",
              "lemma2           False\n",
              "dtype: bool"
            ]
          },
          "metadata": {},
          "execution_count": 317
        }
      ]
    },
    {
      "cell_type": "code",
      "source": [
        "def calc_sim(lemma1, lemma2):\n",
        "    try:\n",
        "        return cos_sim(embedding_matrix, word2index, lemma1, lemma2)\n",
        "    except Exception as e:\n",
        "        return None\n",
        "\n",
        "df[\"custom_score\"] = df.apply(lambda x: calc_sim(x[\"lemma1\"], x[\"lemma2\"]), axis=1)"
      ],
      "metadata": {
        "id": "xlUerFmuONMv"
      },
      "execution_count": 318,
      "outputs": []
    },
    {
      "cell_type": "code",
      "source": [
        "df"
      ],
      "metadata": {
        "colab": {
          "base_uri": "https://localhost:8080/",
          "height": 424
        },
        "id": "P93rICkrO_s9",
        "outputId": "3e6afa1d-b671-408f-afb8-5927540f5310"
      },
      "execution_count": 319,
      "outputs": [
        {
          "output_type": "execute_result",
          "data": {
            "text/plain": [
              "               Word1            Word2  Average Score      lemma1      lemma2  \\\n",
              "0        авария_NOUN    бедствие_NOUN          0.615      авария    бедствие   \n",
              "1        август_NOUN       месяц_NOUN          0.285      август       месяц   \n",
              "2       авиация_NOUN       полет_NOUN          0.677     авиация       полет   \n",
              "3    автомобиль_NOUN       гудок_NOUN          0.185  автомобиль       гудок   \n",
              "4    автомобиль_NOUN  автострада_NOUN          0.123  автомобиль  автострада   \n",
              "..               ...              ...            ...         ...         ...   \n",
              "960      яблоко_NOUN      солнце_NOUN          0.015      яблоко      солнце   \n",
              "961        ядро_NOUN       пушка_NOUN          0.277        ядро       пушка   \n",
              "962        язык_NOUN       горло_NOUN          0.138        язык       горло   \n",
              "963         ярд_NOUN        дюйм_NOUN          0.262         ярд        дюйм   \n",
              "964     яростный_ADJ         злой_ADJ          0.746    яростный        злой   \n",
              "\n",
              "     custom_score  \n",
              "0             NaN  \n",
              "1        0.384623  \n",
              "2             NaN  \n",
              "3       -0.403271  \n",
              "4             NaN  \n",
              "..            ...  \n",
              "960           NaN  \n",
              "961           NaN  \n",
              "962     -0.062658  \n",
              "963           NaN  \n",
              "964           NaN  \n",
              "\n",
              "[965 rows x 6 columns]"
            ],
            "text/html": [
              "\n",
              "  <div id=\"df-d07275de-e08a-4c87-ab1a-2dea56dcceaf\" class=\"colab-df-container\">\n",
              "    <div>\n",
              "<style scoped>\n",
              "    .dataframe tbody tr th:only-of-type {\n",
              "        vertical-align: middle;\n",
              "    }\n",
              "\n",
              "    .dataframe tbody tr th {\n",
              "        vertical-align: top;\n",
              "    }\n",
              "\n",
              "    .dataframe thead th {\n",
              "        text-align: right;\n",
              "    }\n",
              "</style>\n",
              "<table border=\"1\" class=\"dataframe\">\n",
              "  <thead>\n",
              "    <tr style=\"text-align: right;\">\n",
              "      <th></th>\n",
              "      <th>Word1</th>\n",
              "      <th>Word2</th>\n",
              "      <th>Average Score</th>\n",
              "      <th>lemma1</th>\n",
              "      <th>lemma2</th>\n",
              "      <th>custom_score</th>\n",
              "    </tr>\n",
              "  </thead>\n",
              "  <tbody>\n",
              "    <tr>\n",
              "      <th>0</th>\n",
              "      <td>авария_NOUN</td>\n",
              "      <td>бедствие_NOUN</td>\n",
              "      <td>0.615</td>\n",
              "      <td>авария</td>\n",
              "      <td>бедствие</td>\n",
              "      <td>NaN</td>\n",
              "    </tr>\n",
              "    <tr>\n",
              "      <th>1</th>\n",
              "      <td>август_NOUN</td>\n",
              "      <td>месяц_NOUN</td>\n",
              "      <td>0.285</td>\n",
              "      <td>август</td>\n",
              "      <td>месяц</td>\n",
              "      <td>0.384623</td>\n",
              "    </tr>\n",
              "    <tr>\n",
              "      <th>2</th>\n",
              "      <td>авиация_NOUN</td>\n",
              "      <td>полет_NOUN</td>\n",
              "      <td>0.677</td>\n",
              "      <td>авиация</td>\n",
              "      <td>полет</td>\n",
              "      <td>NaN</td>\n",
              "    </tr>\n",
              "    <tr>\n",
              "      <th>3</th>\n",
              "      <td>автомобиль_NOUN</td>\n",
              "      <td>гудок_NOUN</td>\n",
              "      <td>0.185</td>\n",
              "      <td>автомобиль</td>\n",
              "      <td>гудок</td>\n",
              "      <td>-0.403271</td>\n",
              "    </tr>\n",
              "    <tr>\n",
              "      <th>4</th>\n",
              "      <td>автомобиль_NOUN</td>\n",
              "      <td>автострада_NOUN</td>\n",
              "      <td>0.123</td>\n",
              "      <td>автомобиль</td>\n",
              "      <td>автострада</td>\n",
              "      <td>NaN</td>\n",
              "    </tr>\n",
              "    <tr>\n",
              "      <th>...</th>\n",
              "      <td>...</td>\n",
              "      <td>...</td>\n",
              "      <td>...</td>\n",
              "      <td>...</td>\n",
              "      <td>...</td>\n",
              "      <td>...</td>\n",
              "    </tr>\n",
              "    <tr>\n",
              "      <th>960</th>\n",
              "      <td>яблоко_NOUN</td>\n",
              "      <td>солнце_NOUN</td>\n",
              "      <td>0.015</td>\n",
              "      <td>яблоко</td>\n",
              "      <td>солнце</td>\n",
              "      <td>NaN</td>\n",
              "    </tr>\n",
              "    <tr>\n",
              "      <th>961</th>\n",
              "      <td>ядро_NOUN</td>\n",
              "      <td>пушка_NOUN</td>\n",
              "      <td>0.277</td>\n",
              "      <td>ядро</td>\n",
              "      <td>пушка</td>\n",
              "      <td>NaN</td>\n",
              "    </tr>\n",
              "    <tr>\n",
              "      <th>962</th>\n",
              "      <td>язык_NOUN</td>\n",
              "      <td>горло_NOUN</td>\n",
              "      <td>0.138</td>\n",
              "      <td>язык</td>\n",
              "      <td>горло</td>\n",
              "      <td>-0.062658</td>\n",
              "    </tr>\n",
              "    <tr>\n",
              "      <th>963</th>\n",
              "      <td>ярд_NOUN</td>\n",
              "      <td>дюйм_NOUN</td>\n",
              "      <td>0.262</td>\n",
              "      <td>ярд</td>\n",
              "      <td>дюйм</td>\n",
              "      <td>NaN</td>\n",
              "    </tr>\n",
              "    <tr>\n",
              "      <th>964</th>\n",
              "      <td>яростный_ADJ</td>\n",
              "      <td>злой_ADJ</td>\n",
              "      <td>0.746</td>\n",
              "      <td>яростный</td>\n",
              "      <td>злой</td>\n",
              "      <td>NaN</td>\n",
              "    </tr>\n",
              "  </tbody>\n",
              "</table>\n",
              "<p>965 rows × 6 columns</p>\n",
              "</div>\n",
              "    <div class=\"colab-df-buttons\">\n",
              "\n",
              "  <div class=\"colab-df-container\">\n",
              "    <button class=\"colab-df-convert\" onclick=\"convertToInteractive('df-d07275de-e08a-4c87-ab1a-2dea56dcceaf')\"\n",
              "            title=\"Convert this dataframe to an interactive table.\"\n",
              "            style=\"display:none;\">\n",
              "\n",
              "  <svg xmlns=\"http://www.w3.org/2000/svg\" height=\"24px\" viewBox=\"0 -960 960 960\">\n",
              "    <path d=\"M120-120v-720h720v720H120Zm60-500h600v-160H180v160Zm220 220h160v-160H400v160Zm0 220h160v-160H400v160ZM180-400h160v-160H180v160Zm440 0h160v-160H620v160ZM180-180h160v-160H180v160Zm440 0h160v-160H620v160Z\"/>\n",
              "  </svg>\n",
              "    </button>\n",
              "\n",
              "  <style>\n",
              "    .colab-df-container {\n",
              "      display:flex;\n",
              "      gap: 12px;\n",
              "    }\n",
              "\n",
              "    .colab-df-convert {\n",
              "      background-color: #E8F0FE;\n",
              "      border: none;\n",
              "      border-radius: 50%;\n",
              "      cursor: pointer;\n",
              "      display: none;\n",
              "      fill: #1967D2;\n",
              "      height: 32px;\n",
              "      padding: 0 0 0 0;\n",
              "      width: 32px;\n",
              "    }\n",
              "\n",
              "    .colab-df-convert:hover {\n",
              "      background-color: #E2EBFA;\n",
              "      box-shadow: 0px 1px 2px rgba(60, 64, 67, 0.3), 0px 1px 3px 1px rgba(60, 64, 67, 0.15);\n",
              "      fill: #174EA6;\n",
              "    }\n",
              "\n",
              "    .colab-df-buttons div {\n",
              "      margin-bottom: 4px;\n",
              "    }\n",
              "\n",
              "    [theme=dark] .colab-df-convert {\n",
              "      background-color: #3B4455;\n",
              "      fill: #D2E3FC;\n",
              "    }\n",
              "\n",
              "    [theme=dark] .colab-df-convert:hover {\n",
              "      background-color: #434B5C;\n",
              "      box-shadow: 0px 1px 3px 1px rgba(0, 0, 0, 0.15);\n",
              "      filter: drop-shadow(0px 1px 2px rgba(0, 0, 0, 0.3));\n",
              "      fill: #FFFFFF;\n",
              "    }\n",
              "  </style>\n",
              "\n",
              "    <script>\n",
              "      const buttonEl =\n",
              "        document.querySelector('#df-d07275de-e08a-4c87-ab1a-2dea56dcceaf button.colab-df-convert');\n",
              "      buttonEl.style.display =\n",
              "        google.colab.kernel.accessAllowed ? 'block' : 'none';\n",
              "\n",
              "      async function convertToInteractive(key) {\n",
              "        const element = document.querySelector('#df-d07275de-e08a-4c87-ab1a-2dea56dcceaf');\n",
              "        const dataTable =\n",
              "          await google.colab.kernel.invokeFunction('convertToInteractive',\n",
              "                                                    [key], {});\n",
              "        if (!dataTable) return;\n",
              "\n",
              "        const docLinkHtml = 'Like what you see? Visit the ' +\n",
              "          '<a target=\"_blank\" href=https://colab.research.google.com/notebooks/data_table.ipynb>data table notebook</a>'\n",
              "          + ' to learn more about interactive tables.';\n",
              "        element.innerHTML = '';\n",
              "        dataTable['output_type'] = 'display_data';\n",
              "        await google.colab.output.renderOutput(dataTable, element);\n",
              "        const docLink = document.createElement('div');\n",
              "        docLink.innerHTML = docLinkHtml;\n",
              "        element.appendChild(docLink);\n",
              "      }\n",
              "    </script>\n",
              "  </div>\n",
              "\n",
              "\n",
              "<div id=\"df-cd84d133-ed90-4860-b618-980ed5a70fa2\">\n",
              "  <button class=\"colab-df-quickchart\" onclick=\"quickchart('df-cd84d133-ed90-4860-b618-980ed5a70fa2')\"\n",
              "            title=\"Suggest charts\"\n",
              "            style=\"display:none;\">\n",
              "\n",
              "<svg xmlns=\"http://www.w3.org/2000/svg\" height=\"24px\"viewBox=\"0 0 24 24\"\n",
              "     width=\"24px\">\n",
              "    <g>\n",
              "        <path d=\"M19 3H5c-1.1 0-2 .9-2 2v14c0 1.1.9 2 2 2h14c1.1 0 2-.9 2-2V5c0-1.1-.9-2-2-2zM9 17H7v-7h2v7zm4 0h-2V7h2v10zm4 0h-2v-4h2v4z\"/>\n",
              "    </g>\n",
              "</svg>\n",
              "  </button>\n",
              "\n",
              "<style>\n",
              "  .colab-df-quickchart {\n",
              "      --bg-color: #E8F0FE;\n",
              "      --fill-color: #1967D2;\n",
              "      --hover-bg-color: #E2EBFA;\n",
              "      --hover-fill-color: #174EA6;\n",
              "      --disabled-fill-color: #AAA;\n",
              "      --disabled-bg-color: #DDD;\n",
              "  }\n",
              "\n",
              "  [theme=dark] .colab-df-quickchart {\n",
              "      --bg-color: #3B4455;\n",
              "      --fill-color: #D2E3FC;\n",
              "      --hover-bg-color: #434B5C;\n",
              "      --hover-fill-color: #FFFFFF;\n",
              "      --disabled-bg-color: #3B4455;\n",
              "      --disabled-fill-color: #666;\n",
              "  }\n",
              "\n",
              "  .colab-df-quickchart {\n",
              "    background-color: var(--bg-color);\n",
              "    border: none;\n",
              "    border-radius: 50%;\n",
              "    cursor: pointer;\n",
              "    display: none;\n",
              "    fill: var(--fill-color);\n",
              "    height: 32px;\n",
              "    padding: 0;\n",
              "    width: 32px;\n",
              "  }\n",
              "\n",
              "  .colab-df-quickchart:hover {\n",
              "    background-color: var(--hover-bg-color);\n",
              "    box-shadow: 0 1px 2px rgba(60, 64, 67, 0.3), 0 1px 3px 1px rgba(60, 64, 67, 0.15);\n",
              "    fill: var(--button-hover-fill-color);\n",
              "  }\n",
              "\n",
              "  .colab-df-quickchart-complete:disabled,\n",
              "  .colab-df-quickchart-complete:disabled:hover {\n",
              "    background-color: var(--disabled-bg-color);\n",
              "    fill: var(--disabled-fill-color);\n",
              "    box-shadow: none;\n",
              "  }\n",
              "\n",
              "  .colab-df-spinner {\n",
              "    border: 2px solid var(--fill-color);\n",
              "    border-color: transparent;\n",
              "    border-bottom-color: var(--fill-color);\n",
              "    animation:\n",
              "      spin 1s steps(1) infinite;\n",
              "  }\n",
              "\n",
              "  @keyframes spin {\n",
              "    0% {\n",
              "      border-color: transparent;\n",
              "      border-bottom-color: var(--fill-color);\n",
              "      border-left-color: var(--fill-color);\n",
              "    }\n",
              "    20% {\n",
              "      border-color: transparent;\n",
              "      border-left-color: var(--fill-color);\n",
              "      border-top-color: var(--fill-color);\n",
              "    }\n",
              "    30% {\n",
              "      border-color: transparent;\n",
              "      border-left-color: var(--fill-color);\n",
              "      border-top-color: var(--fill-color);\n",
              "      border-right-color: var(--fill-color);\n",
              "    }\n",
              "    40% {\n",
              "      border-color: transparent;\n",
              "      border-right-color: var(--fill-color);\n",
              "      border-top-color: var(--fill-color);\n",
              "    }\n",
              "    60% {\n",
              "      border-color: transparent;\n",
              "      border-right-color: var(--fill-color);\n",
              "    }\n",
              "    80% {\n",
              "      border-color: transparent;\n",
              "      border-right-color: var(--fill-color);\n",
              "      border-bottom-color: var(--fill-color);\n",
              "    }\n",
              "    90% {\n",
              "      border-color: transparent;\n",
              "      border-bottom-color: var(--fill-color);\n",
              "    }\n",
              "  }\n",
              "</style>\n",
              "\n",
              "  <script>\n",
              "    async function quickchart(key) {\n",
              "      const quickchartButtonEl =\n",
              "        document.querySelector('#' + key + ' button');\n",
              "      quickchartButtonEl.disabled = true;  // To prevent multiple clicks.\n",
              "      quickchartButtonEl.classList.add('colab-df-spinner');\n",
              "      try {\n",
              "        const charts = await google.colab.kernel.invokeFunction(\n",
              "            'suggestCharts', [key], {});\n",
              "      } catch (error) {\n",
              "        console.error('Error during call to suggestCharts:', error);\n",
              "      }\n",
              "      quickchartButtonEl.classList.remove('colab-df-spinner');\n",
              "      quickchartButtonEl.classList.add('colab-df-quickchart-complete');\n",
              "    }\n",
              "    (() => {\n",
              "      let quickchartButtonEl =\n",
              "        document.querySelector('#df-cd84d133-ed90-4860-b618-980ed5a70fa2 button');\n",
              "      quickchartButtonEl.style.display =\n",
              "        google.colab.kernel.accessAllowed ? 'block' : 'none';\n",
              "    })();\n",
              "  </script>\n",
              "</div>\n",
              "    </div>\n",
              "  </div>\n"
            ]
          },
          "metadata": {},
          "execution_count": 319
        }
      ]
    },
    {
      "cell_type": "code",
      "source": [
        "res_df = df[df[\"custom_score\"].notna()]\n",
        "\n",
        "res_df"
      ],
      "metadata": {
        "colab": {
          "base_uri": "https://localhost:8080/",
          "height": 424
        },
        "id": "r_gxPwfRPtCi",
        "outputId": "94922b66-d7c8-436c-a04d-547a0dd73a2f"
      },
      "execution_count": 320,
      "outputs": [
        {
          "output_type": "execute_result",
          "data": {
            "text/plain": [
              "               Word1           Word2  Average Score      lemma1     lemma2  \\\n",
              "1        август_NOUN      месяц_NOUN          0.285      август      месяц   \n",
              "3    автомобиль_NOUN      гудок_NOUN          0.185  автомобиль      гудок   \n",
              "5    автомобиль_NOUN      такси_NOUN          0.415  автомобиль      такси   \n",
              "7    автомобиль_NOUN  велосипед_NOUN          0.138  автомобиль  велосипед   \n",
              "9    автомобиль_NOUN       мост_NOUN          0.115  автомобиль       мост   \n",
              "..               ...             ...            ...         ...        ...   \n",
              "952      юбилей_NOUN        год_NOUN          0.269      юбилей        год   \n",
              "953      юбилей_NOUN       дата_NOUN          0.662      юбилей       дата   \n",
              "954          юг_NOUN      север_NOUN          0.000          юг      север   \n",
              "955       юрист_NOUN     банкир_NOUN          0.115       юрист     банкир   \n",
              "962        язык_NOUN      горло_NOUN          0.138        язык      горло   \n",
              "\n",
              "     custom_score  \n",
              "1        0.384623  \n",
              "3       -0.403271  \n",
              "5        0.209711  \n",
              "7       -0.083445  \n",
              "9       -0.198696  \n",
              "..            ...  \n",
              "952      0.208226  \n",
              "953      0.553486  \n",
              "954      0.342590  \n",
              "955      0.249381  \n",
              "962     -0.062658  \n",
              "\n",
              "[498 rows x 6 columns]"
            ],
            "text/html": [
              "\n",
              "  <div id=\"df-afd647a7-a21f-419a-99eb-16baa6f2fdef\" class=\"colab-df-container\">\n",
              "    <div>\n",
              "<style scoped>\n",
              "    .dataframe tbody tr th:only-of-type {\n",
              "        vertical-align: middle;\n",
              "    }\n",
              "\n",
              "    .dataframe tbody tr th {\n",
              "        vertical-align: top;\n",
              "    }\n",
              "\n",
              "    .dataframe thead th {\n",
              "        text-align: right;\n",
              "    }\n",
              "</style>\n",
              "<table border=\"1\" class=\"dataframe\">\n",
              "  <thead>\n",
              "    <tr style=\"text-align: right;\">\n",
              "      <th></th>\n",
              "      <th>Word1</th>\n",
              "      <th>Word2</th>\n",
              "      <th>Average Score</th>\n",
              "      <th>lemma1</th>\n",
              "      <th>lemma2</th>\n",
              "      <th>custom_score</th>\n",
              "    </tr>\n",
              "  </thead>\n",
              "  <tbody>\n",
              "    <tr>\n",
              "      <th>1</th>\n",
              "      <td>август_NOUN</td>\n",
              "      <td>месяц_NOUN</td>\n",
              "      <td>0.285</td>\n",
              "      <td>август</td>\n",
              "      <td>месяц</td>\n",
              "      <td>0.384623</td>\n",
              "    </tr>\n",
              "    <tr>\n",
              "      <th>3</th>\n",
              "      <td>автомобиль_NOUN</td>\n",
              "      <td>гудок_NOUN</td>\n",
              "      <td>0.185</td>\n",
              "      <td>автомобиль</td>\n",
              "      <td>гудок</td>\n",
              "      <td>-0.403271</td>\n",
              "    </tr>\n",
              "    <tr>\n",
              "      <th>5</th>\n",
              "      <td>автомобиль_NOUN</td>\n",
              "      <td>такси_NOUN</td>\n",
              "      <td>0.415</td>\n",
              "      <td>автомобиль</td>\n",
              "      <td>такси</td>\n",
              "      <td>0.209711</td>\n",
              "    </tr>\n",
              "    <tr>\n",
              "      <th>7</th>\n",
              "      <td>автомобиль_NOUN</td>\n",
              "      <td>велосипед_NOUN</td>\n",
              "      <td>0.138</td>\n",
              "      <td>автомобиль</td>\n",
              "      <td>велосипед</td>\n",
              "      <td>-0.083445</td>\n",
              "    </tr>\n",
              "    <tr>\n",
              "      <th>9</th>\n",
              "      <td>автомобиль_NOUN</td>\n",
              "      <td>мост_NOUN</td>\n",
              "      <td>0.115</td>\n",
              "      <td>автомобиль</td>\n",
              "      <td>мост</td>\n",
              "      <td>-0.198696</td>\n",
              "    </tr>\n",
              "    <tr>\n",
              "      <th>...</th>\n",
              "      <td>...</td>\n",
              "      <td>...</td>\n",
              "      <td>...</td>\n",
              "      <td>...</td>\n",
              "      <td>...</td>\n",
              "      <td>...</td>\n",
              "    </tr>\n",
              "    <tr>\n",
              "      <th>952</th>\n",
              "      <td>юбилей_NOUN</td>\n",
              "      <td>год_NOUN</td>\n",
              "      <td>0.269</td>\n",
              "      <td>юбилей</td>\n",
              "      <td>год</td>\n",
              "      <td>0.208226</td>\n",
              "    </tr>\n",
              "    <tr>\n",
              "      <th>953</th>\n",
              "      <td>юбилей_NOUN</td>\n",
              "      <td>дата_NOUN</td>\n",
              "      <td>0.662</td>\n",
              "      <td>юбилей</td>\n",
              "      <td>дата</td>\n",
              "      <td>0.553486</td>\n",
              "    </tr>\n",
              "    <tr>\n",
              "      <th>954</th>\n",
              "      <td>юг_NOUN</td>\n",
              "      <td>север_NOUN</td>\n",
              "      <td>0.000</td>\n",
              "      <td>юг</td>\n",
              "      <td>север</td>\n",
              "      <td>0.342590</td>\n",
              "    </tr>\n",
              "    <tr>\n",
              "      <th>955</th>\n",
              "      <td>юрист_NOUN</td>\n",
              "      <td>банкир_NOUN</td>\n",
              "      <td>0.115</td>\n",
              "      <td>юрист</td>\n",
              "      <td>банкир</td>\n",
              "      <td>0.249381</td>\n",
              "    </tr>\n",
              "    <tr>\n",
              "      <th>962</th>\n",
              "      <td>язык_NOUN</td>\n",
              "      <td>горло_NOUN</td>\n",
              "      <td>0.138</td>\n",
              "      <td>язык</td>\n",
              "      <td>горло</td>\n",
              "      <td>-0.062658</td>\n",
              "    </tr>\n",
              "  </tbody>\n",
              "</table>\n",
              "<p>498 rows × 6 columns</p>\n",
              "</div>\n",
              "    <div class=\"colab-df-buttons\">\n",
              "\n",
              "  <div class=\"colab-df-container\">\n",
              "    <button class=\"colab-df-convert\" onclick=\"convertToInteractive('df-afd647a7-a21f-419a-99eb-16baa6f2fdef')\"\n",
              "            title=\"Convert this dataframe to an interactive table.\"\n",
              "            style=\"display:none;\">\n",
              "\n",
              "  <svg xmlns=\"http://www.w3.org/2000/svg\" height=\"24px\" viewBox=\"0 -960 960 960\">\n",
              "    <path d=\"M120-120v-720h720v720H120Zm60-500h600v-160H180v160Zm220 220h160v-160H400v160Zm0 220h160v-160H400v160ZM180-400h160v-160H180v160Zm440 0h160v-160H620v160ZM180-180h160v-160H180v160Zm440 0h160v-160H620v160Z\"/>\n",
              "  </svg>\n",
              "    </button>\n",
              "\n",
              "  <style>\n",
              "    .colab-df-container {\n",
              "      display:flex;\n",
              "      gap: 12px;\n",
              "    }\n",
              "\n",
              "    .colab-df-convert {\n",
              "      background-color: #E8F0FE;\n",
              "      border: none;\n",
              "      border-radius: 50%;\n",
              "      cursor: pointer;\n",
              "      display: none;\n",
              "      fill: #1967D2;\n",
              "      height: 32px;\n",
              "      padding: 0 0 0 0;\n",
              "      width: 32px;\n",
              "    }\n",
              "\n",
              "    .colab-df-convert:hover {\n",
              "      background-color: #E2EBFA;\n",
              "      box-shadow: 0px 1px 2px rgba(60, 64, 67, 0.3), 0px 1px 3px 1px rgba(60, 64, 67, 0.15);\n",
              "      fill: #174EA6;\n",
              "    }\n",
              "\n",
              "    .colab-df-buttons div {\n",
              "      margin-bottom: 4px;\n",
              "    }\n",
              "\n",
              "    [theme=dark] .colab-df-convert {\n",
              "      background-color: #3B4455;\n",
              "      fill: #D2E3FC;\n",
              "    }\n",
              "\n",
              "    [theme=dark] .colab-df-convert:hover {\n",
              "      background-color: #434B5C;\n",
              "      box-shadow: 0px 1px 3px 1px rgba(0, 0, 0, 0.15);\n",
              "      filter: drop-shadow(0px 1px 2px rgba(0, 0, 0, 0.3));\n",
              "      fill: #FFFFFF;\n",
              "    }\n",
              "  </style>\n",
              "\n",
              "    <script>\n",
              "      const buttonEl =\n",
              "        document.querySelector('#df-afd647a7-a21f-419a-99eb-16baa6f2fdef button.colab-df-convert');\n",
              "      buttonEl.style.display =\n",
              "        google.colab.kernel.accessAllowed ? 'block' : 'none';\n",
              "\n",
              "      async function convertToInteractive(key) {\n",
              "        const element = document.querySelector('#df-afd647a7-a21f-419a-99eb-16baa6f2fdef');\n",
              "        const dataTable =\n",
              "          await google.colab.kernel.invokeFunction('convertToInteractive',\n",
              "                                                    [key], {});\n",
              "        if (!dataTable) return;\n",
              "\n",
              "        const docLinkHtml = 'Like what you see? Visit the ' +\n",
              "          '<a target=\"_blank\" href=https://colab.research.google.com/notebooks/data_table.ipynb>data table notebook</a>'\n",
              "          + ' to learn more about interactive tables.';\n",
              "        element.innerHTML = '';\n",
              "        dataTable['output_type'] = 'display_data';\n",
              "        await google.colab.output.renderOutput(dataTable, element);\n",
              "        const docLink = document.createElement('div');\n",
              "        docLink.innerHTML = docLinkHtml;\n",
              "        element.appendChild(docLink);\n",
              "      }\n",
              "    </script>\n",
              "  </div>\n",
              "\n",
              "\n",
              "<div id=\"df-f912aa44-3f7a-481f-ae56-9a950066e487\">\n",
              "  <button class=\"colab-df-quickchart\" onclick=\"quickchart('df-f912aa44-3f7a-481f-ae56-9a950066e487')\"\n",
              "            title=\"Suggest charts\"\n",
              "            style=\"display:none;\">\n",
              "\n",
              "<svg xmlns=\"http://www.w3.org/2000/svg\" height=\"24px\"viewBox=\"0 0 24 24\"\n",
              "     width=\"24px\">\n",
              "    <g>\n",
              "        <path d=\"M19 3H5c-1.1 0-2 .9-2 2v14c0 1.1.9 2 2 2h14c1.1 0 2-.9 2-2V5c0-1.1-.9-2-2-2zM9 17H7v-7h2v7zm4 0h-2V7h2v10zm4 0h-2v-4h2v4z\"/>\n",
              "    </g>\n",
              "</svg>\n",
              "  </button>\n",
              "\n",
              "<style>\n",
              "  .colab-df-quickchart {\n",
              "      --bg-color: #E8F0FE;\n",
              "      --fill-color: #1967D2;\n",
              "      --hover-bg-color: #E2EBFA;\n",
              "      --hover-fill-color: #174EA6;\n",
              "      --disabled-fill-color: #AAA;\n",
              "      --disabled-bg-color: #DDD;\n",
              "  }\n",
              "\n",
              "  [theme=dark] .colab-df-quickchart {\n",
              "      --bg-color: #3B4455;\n",
              "      --fill-color: #D2E3FC;\n",
              "      --hover-bg-color: #434B5C;\n",
              "      --hover-fill-color: #FFFFFF;\n",
              "      --disabled-bg-color: #3B4455;\n",
              "      --disabled-fill-color: #666;\n",
              "  }\n",
              "\n",
              "  .colab-df-quickchart {\n",
              "    background-color: var(--bg-color);\n",
              "    border: none;\n",
              "    border-radius: 50%;\n",
              "    cursor: pointer;\n",
              "    display: none;\n",
              "    fill: var(--fill-color);\n",
              "    height: 32px;\n",
              "    padding: 0;\n",
              "    width: 32px;\n",
              "  }\n",
              "\n",
              "  .colab-df-quickchart:hover {\n",
              "    background-color: var(--hover-bg-color);\n",
              "    box-shadow: 0 1px 2px rgba(60, 64, 67, 0.3), 0 1px 3px 1px rgba(60, 64, 67, 0.15);\n",
              "    fill: var(--button-hover-fill-color);\n",
              "  }\n",
              "\n",
              "  .colab-df-quickchart-complete:disabled,\n",
              "  .colab-df-quickchart-complete:disabled:hover {\n",
              "    background-color: var(--disabled-bg-color);\n",
              "    fill: var(--disabled-fill-color);\n",
              "    box-shadow: none;\n",
              "  }\n",
              "\n",
              "  .colab-df-spinner {\n",
              "    border: 2px solid var(--fill-color);\n",
              "    border-color: transparent;\n",
              "    border-bottom-color: var(--fill-color);\n",
              "    animation:\n",
              "      spin 1s steps(1) infinite;\n",
              "  }\n",
              "\n",
              "  @keyframes spin {\n",
              "    0% {\n",
              "      border-color: transparent;\n",
              "      border-bottom-color: var(--fill-color);\n",
              "      border-left-color: var(--fill-color);\n",
              "    }\n",
              "    20% {\n",
              "      border-color: transparent;\n",
              "      border-left-color: var(--fill-color);\n",
              "      border-top-color: var(--fill-color);\n",
              "    }\n",
              "    30% {\n",
              "      border-color: transparent;\n",
              "      border-left-color: var(--fill-color);\n",
              "      border-top-color: var(--fill-color);\n",
              "      border-right-color: var(--fill-color);\n",
              "    }\n",
              "    40% {\n",
              "      border-color: transparent;\n",
              "      border-right-color: var(--fill-color);\n",
              "      border-top-color: var(--fill-color);\n",
              "    }\n",
              "    60% {\n",
              "      border-color: transparent;\n",
              "      border-right-color: var(--fill-color);\n",
              "    }\n",
              "    80% {\n",
              "      border-color: transparent;\n",
              "      border-right-color: var(--fill-color);\n",
              "      border-bottom-color: var(--fill-color);\n",
              "    }\n",
              "    90% {\n",
              "      border-color: transparent;\n",
              "      border-bottom-color: var(--fill-color);\n",
              "    }\n",
              "  }\n",
              "</style>\n",
              "\n",
              "  <script>\n",
              "    async function quickchart(key) {\n",
              "      const quickchartButtonEl =\n",
              "        document.querySelector('#' + key + ' button');\n",
              "      quickchartButtonEl.disabled = true;  // To prevent multiple clicks.\n",
              "      quickchartButtonEl.classList.add('colab-df-spinner');\n",
              "      try {\n",
              "        const charts = await google.colab.kernel.invokeFunction(\n",
              "            'suggestCharts', [key], {});\n",
              "      } catch (error) {\n",
              "        console.error('Error during call to suggestCharts:', error);\n",
              "      }\n",
              "      quickchartButtonEl.classList.remove('colab-df-spinner');\n",
              "      quickchartButtonEl.classList.add('colab-df-quickchart-complete');\n",
              "    }\n",
              "    (() => {\n",
              "      let quickchartButtonEl =\n",
              "        document.querySelector('#df-f912aa44-3f7a-481f-ae56-9a950066e487 button');\n",
              "      quickchartButtonEl.style.display =\n",
              "        google.colab.kernel.accessAllowed ? 'block' : 'none';\n",
              "    })();\n",
              "  </script>\n",
              "</div>\n",
              "    </div>\n",
              "  </div>\n"
            ]
          },
          "metadata": {},
          "execution_count": 320
        }
      ]
    },
    {
      "cell_type": "code",
      "source": [
        "mean_squared_error(res_df[\"Average Score\"], res_df[\"custom_score\"])"
      ],
      "metadata": {
        "colab": {
          "base_uri": "https://localhost:8080/"
        },
        "id": "aF8eueFZP4NB",
        "outputId": "5fff1c1b-759b-4cb7-9e1b-e04647937044"
      },
      "execution_count": 321,
      "outputs": [
        {
          "output_type": "execute_result",
          "data": {
            "text/plain": [
              "0.21530947236700643"
            ]
          },
          "metadata": {},
          "execution_count": 321
        }
      ]
    },
    {
      "cell_type": "code",
      "source": [],
      "metadata": {
        "id": "sqN3XvYXQMXH"
      },
      "execution_count": 309,
      "outputs": []
    }
  ],
  "metadata": {
    "kernelspec": {
      "display_name": "Python 3",
      "name": "python3"
    },
    "language_info": {
      "codemirror_mode": {
        "name": "ipython",
        "version": 3
      },
      "file_extension": ".py",
      "mimetype": "text/x-python",
      "name": "python",
      "nbconvert_exporter": "python",
      "pygments_lexer": "ipython3",
      "version": "3.6.8"
    },
    "colab": {
      "provenance": [],
      "gpuType": "T4"
    },
    "accelerator": "GPU"
  },
  "nbformat": 4,
  "nbformat_minor": 0
}